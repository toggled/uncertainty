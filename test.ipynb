{
 "cells": [
  {
   "cell_type": "code",
   "execution_count": 25,
   "metadata": {},
   "outputs": [],
   "source": [
    "import pandas as pd\n",
    "import ast\n",
    "f = pd.read_csv('flickr_tri.csv')\n",
    "T = []\n",
    "Omegas = []\n",
    "min_omegas = []\n",
    "max_omegas = []\n",
    "H = []\n",
    "for i in f.iterrows():\n",
    "    t = int(i[1][0])\n",
    "    omegas = ast.literal_eval(i[1][1])\n",
    "    Omegas.append(omegas)\n",
    "    T.append(t)\n",
    "    min_omegas.append(min(omegas))\n",
    "    max_omegas.append(max(omegas))\n",
    "    H.append(float(i[1][2]))\n",
    "    # print(i[1])"
   ]
  },
  {
   "cell_type": "code",
   "execution_count": 53,
   "metadata": {},
   "outputs": [
    {
     "data": {
      "image/png": "[encoded data removed]",
      "text/plain": [
       "<Figure size 432x288 with 1 Axes>"
      ]
     },
     "metadata": {
      "needs_background": "light"
     },
     "output_type": "display_data"
    },
    {
     "data": {
      "image/png": "[encoded data removed]",
      "text/plain": [
       "<Figure size 432x288 with 1 Axes>"
      ]
     },
     "metadata": {
      "needs_background": "light"
     },
     "output_type": "display_data"
    },
    {
     "data": {
      "image/png": "[encoded data removed]",
      "text/plain": [
       "<Figure size 432x288 with 1 Axes>"
      ]
     },
     "metadata": {
      "needs_background": "light"
     },
     "output_type": "display_data"
    }
   ],
   "source": [
    "from matplotlib import pyplot as plt\n",
    "import math\n",
    "om = Omegas[-1]\n",
    "# plt.subplots(111,figsize=(10,5))\n",
    "num_bins = int(math.sqrt(len(om)))\n",
    "plt.hist(om,bins = num_bins)\n",
    "plt.title('#partitions = '+str(num_bins)+', #MC samples = '+str(len(om)))\n",
    "ax= plt.gca(); ax.ticklabel_format(style='plain')\n",
    "plt.show(); plt.close()\n",
    "\n",
    "plt.hist(om,bins = num_bins//3)\n",
    "plt.title('#partitions = '+str(int(num_bins/3))+', #MC samples = '+str(len(om)))\n",
    "ax= plt.gca(); ax.ticklabel_format(style='plain')\n",
    "plt.show(); plt.close()\n",
    "\n",
    "plt.hist(om,bins = num_bins*3)\n",
    "plt.title('#partitions = '+str(num_bins*3)+', #MC samples = '+str(len(om)))\n",
    "ax= plt.gca(); ax.ticklabel_format(style='plain')\n",
    "plt.show(); plt.close()"
   ]
  },
  {
   "cell_type": "code",
   "execution_count": null,
   "metadata": {},
   "outputs": [],
   "source": []
  },
  {
   "cell_type": "code",
   "execution_count": 1,
   "metadata": {},
   "outputs": [
    {
     "name": "stderr",
     "output_type": "stream",
     "text": [
      "usage: ipykernel_launcher.py [-h] [-d DATASET] [-a ALGO] [-u UTYPE] [-k K]\n",
      "                             [-v] [-s SOURCE] [-t TARGET] [-pr PROPERTY]\n",
      "                             [-K K] [-ea EST_ALGO] [-q QUERYF] [-b BUCKETING]\n",
      "                             [-dh HOP] [-db]\n",
      "ipykernel_launcher.py: error: unrecognized arguments: --ip=127.0.0.1 --stdin=9003 --control=9001 --hb=9000 --Session.signature_scheme=\"hmac-sha256\" --Session.key=b\"e5cafa30-791f-49c4-935a-ab143b22dc1a\" --shell=9002 --transport=\"tcp\" --iopub=9004 --f=c:\\Users\\naheedanjum.arafat\\AppData\\Roaming\\jupyter\\runtime\\kernel-v2-183049gHcijtMf7G9.json\n"
     ]
    },
    {
     "ename": "SystemExit",
     "evalue": "2",
     "output_type": "error",
     "traceback": [
      "An exception has occurred, use %tb to see the full traceback.\n",
      "\u001b[1;31mSystemExit\u001b[0m\u001b[1;31m:\u001b[0m 2\n"
     ]
    },
    {
     "name": "stderr",
     "output_type": "stream",
     "text": [
      "c:\\Users\\naheedanjum.arafat\\Anaconda3\\lib\\site-packages\\IPython\\core\\interactiveshell.py:3445: UserWarning: To exit: use 'exit', 'quit', or Ctrl-D.\n",
      "  warn(\"To exit: use 'exit', 'quit', or Ctrl-D.\", stacklevel=1)\n"
     ]
    }
   ],
   "source": [
    "import os,json\n",
    "# from unittest import result\n",
    "import networkx as nx\n",
    "from src.utils import *\n",
    "from src.algorithm import Algorithm,ApproximateAlgorithm\n",
    "from src.query import Query,wQuery,multiGraphQuery,multiGraphwQuery\n",
    "import pandas as pd\n",
    "from datetime import datetime\n",
    "from reduce_main import singleQuery_singleRun"
   ]
  },
  {
   "cell_type": "code",
   "execution_count": 2,
   "metadata": {},
   "outputs": [
    {
     "name": "stdout",
     "output_type": "stream",
     "text": [
      "weighted graph? =>  False\n",
      "Reachability( s , y )\n",
      "Greedy algorithm (w/ exact mem.): \n",
      "Iteration:  0\n",
      "{1: {('x', 'y'): 0.8333333333333334, ('s', 'x'): 0.0, ('s', 'y'): 0, ('s', 'u'): 2.0}}\n",
      "[('s', 'u')]\n",
      "Iteration:  0\n",
      "{1: {('x', 'y'): 0.5555555555555556, ('s', 'x'): 0.0, ('s', 'y'): 0, ('s', 'u'): 0}}\n",
      "[('s', 'x')]\n",
      "Iteration:  0\n",
      "{1: {('x', 'y'): 0.8333333333333334, ('s', 'x'): 0, ('s', 'y'): 0, ('s', 'u'): 0}}\n",
      "[('s', 'x')]\n",
      "Iteration:  0\n",
      "{1: {('x', 'y'): 1.0, ('s', 'x'): 0, ('s', 'y'): 0, ('s', 'u'): 0}}\n",
      "[('x', 'y')]\n",
      "Iteration:  0\n",
      "{1: {('x', 'y'): 0, ('s', 'x'): 0, ('s', 'y'): 0, ('s', 'u'): 0}}\n",
      "[('x', 'y')]\n",
      "Iteration:  0\n",
      "{1: {('x', 'y'): 0, ('s', 'x'): 0, ('s', 'y'): 0, ('s', 'u'): 0}}\n",
      "[('x', 'y')]\n",
      "Iteration:  0\n",
      "{1: {('x', 'y'): 0, ('s', 'x'): 0, ('s', 'y'): 0, ('s', 'u'): 0}}\n",
      "[('x', 'y')]\n",
      "Iteration:  0\n",
      "{1: {('x', 'y'): 0, ('s', 'x'): 0, ('s', 'y'): 0, ('s', 'u'): 0}}\n",
      "[('x', 'y')]\n"
     ]
    }
   ],
   "source": [
    "dataset = 'default'\n",
    "property = 'reach'\n",
    "source = 's'\n",
    "target = 'y'\n",
    "dhopreach = False \n",
    "hop = -1\n",
    "k = 1 \n",
    "G = get_dataset(dataset)\n",
    "os.environ['time_seed'] = 'True'\n",
    "if property == 'reach':\n",
    "    if dhopreach:\n",
    "        print('#<d-hop reachability (',source,',',target,')')\n",
    "        Q = Query(G, 'reach_d',args = {'u':source,'v':target, 'd':hop})\n",
    "    else:\n",
    "        print('Reachability(',source,',',target,')')\n",
    "        Q = Query(G,'reach',{'u':source,'v':target})\n",
    "\n",
    "if property == 'sp':\n",
    "    print('Shortest path')\n",
    "    Q = wQuery(G,'sp',{'u':source,'v':target})\n",
    "if property == 'tri':\n",
    "    print('#Triangles')\n",
    "    Q = Query(G,'tri')\n",
    "a = Algorithm(G, Q, debug = True)\n",
    "print(\"Greedy algorithm (w/ exact mem.): \")\n",
    "a.algorithm5(k = k, update_type='o1', verbose = False)\n",
    "M = a.algostat['M']\n",
    "hatMList = []\n",
    "for K in range(2,10):\n",
    "    Q = Query(G,'reach',{'u':source,'v':target})\n",
    "    a = ApproximateAlgorithm(G, Q, debug = True)\n",
    "    a.algorithm5(property = Q.qtype, algorithm = 'exact', \\\n",
    "                    k = k, K = K, update_type='o1', verbose = False)\n",
    "    hatMList.append(a.algostat['M'])\n",
    "    print(a.algostat['result']['edges'])"
   ]
  },
  {
   "cell_type": "code",
   "execution_count": 18,
   "metadata": {},
   "outputs": [
    {
     "data": {
      "text/plain": [
       "dict_items([(1, {('x', 'y'): 0, ('s', 'x'): 0, ('s', 'y'): 0, ('s', 'u'): 0})])"
      ]
     },
     "execution_count": 18,
     "metadata": {},
     "output_type": "execute_result"
    }
   ],
   "source": [
    "hatMList[-1].items()"
   ]
  },
  {
   "cell_type": "code",
   "execution_count": 19,
   "metadata": {},
   "outputs": [
    {
     "data": {
      "text/plain": [
       "{1: {('x', 'y'): 0, ('s', 'x'): 0, ('s', 'y'): 0, ('s', 'u'): 0}}"
      ]
     },
     "execution_count": 19,
     "metadata": {},
     "output_type": "execute_result"
    }
   ],
   "source": [
    "hatMList[-3]"
   ]
  },
  {
   "cell_type": "code",
   "execution_count": 25,
   "metadata": {},
   "outputs": [
    {
     "data": {
      "text/plain": [
       "{0: {('x', 'y'): 0.18000000000000002,\n",
       "  ('s', 'x'): 0.12000000000000004,\n",
       "  ('s', 'y'): 0.0,\n",
       "  ('s', 'u'): 0.22800000000000004},\n",
       " 1: {('x', 'y'): 0.8200000000000001,\n",
       "  ('s', 'x'): 0.88,\n",
       "  ('s', 'y'): 1.0,\n",
       "  ('s', 'u'): 0.772}}"
      ]
     },
     "execution_count": 25,
     "metadata": {},
     "output_type": "execute_result"
    }
   ],
   "source": [
    "M"
   ]
  },
  {
   "attachments": {},
   "cell_type": "markdown",
   "metadata": {},
   "source": [
    "### ER N vs dH Plot"
   ]
  },
  {
   "cell_type": "code",
   "execution_count": 2,
   "metadata": {},
   "outputs": [
    {
     "name": "stdout",
     "output_type": "stream",
     "text": [
      "output/measure_biomine_mcbfs_reach_2.queries.csv\n",
      "2.queries.csv  =>  16.0\n",
      "16.0\n"
     ]
    }
   ],
   "source": [
    "# pr = 'tri'\n",
    "# pr = 'sp'\n",
    "pr='reach'\n",
    "# alg = 'appr'\n",
    "# alg = 'mcdij'\n",
    "alg = 'mcbfs'\n",
    "# alg = 'mcapproxtri'\n",
    "# data = 'ER_15_22'\n",
    "# data = 'flickr'\n",
    "# data = 'rome'\n",
    "data = 'biomine'\n",
    "_max = -1\n",
    "# invert = True\n",
    "invert = False\n",
    "loop = 'N' # 'T'\n",
    "epsilon = 0.001\n",
    "# epsilon = 0.03\n",
    "for q in [2]:\n",
    "# for q in [1,2,3,4]:\n",
    "# for q in [1]:\n",
    "    qset = str(q)+'.queries.csv'\n",
    "    fname = 'output/measure_'+data+'_'+alg+'_'+pr+'_'+qset \n",
    "    print(fname)\n",
    "    import pandas as pd\n",
    "    df = pd.read_csv(fname)\n",
    "    # print(df.head())\n",
    "    if invert:\n",
    "        df  = df.iloc[::-1]\n",
    "        # df = df.reindex(index=df.index[::-1])\n",
    "    avg_df = df.groupby(loop)[['N','T','H']].mean()\n",
    "    # avg_df = df\n",
    "    # print(avg_df)\n",
    "    avg_df['dHdN'] = avg_df['H'].diff()/avg_df[loop].diff()\n",
    "    # if q == 2:\n",
    "    #     print(avg_df)\n",
    "    _filter = avg_df[avg_df['dHdN'].abs()<=epsilon]\n",
    "    # print(_filter)\n",
    "    Nstar = _filter.iloc[0][loop]\n",
    "    print(qset, ' => ',Nstar)\n",
    "    _max = max(Nstar,_max)\n",
    "print(_max)\n",
    "# avg_df"
   ]
  },
  {
   "cell_type": "code",
   "execution_count": 3,
   "metadata": {},
   "outputs": [
    {
     "name": "stdout",
     "output_type": "stream",
     "text": [
      "output/measure_flickr_mcapproxtri_tri_1.queries_NLoops.csv\n",
      "1.queries_NLoops.csv  =>  26.0\n",
      "26.0\n"
     ]
    }
   ],
   "source": [
    "pr = 'tri'\n",
    "# pr = 'sp'\n",
    "# pr='reach'\n",
    "# alg = 'appr'\n",
    "# alg = 'mcdij'\n",
    "# alg = 'mcbfs'\n",
    "alg = 'mcapproxtri'\n",
    "# data = 'ER_15_22'\n",
    "data = 'flickr'\n",
    "# data = 'rome'\n",
    "# data = 'biomine'\n",
    "_max = -1\n",
    "# invert = True\n",
    "invert = False\n",
    "loop = 'N' # 'T'\n",
    "epsilon = 0.001\n",
    "# epsilon = 0.03\n",
    "for q in [1]:\n",
    "# for q in [1,2,3,4]:\n",
    "# for q in [1]:\n",
    "    # qset = str(q)+'.queries.csv'\n",
    "    qset = str(q)+'.queries_NLoops.csv'\n",
    "    fname = 'output/measure_'+data+'_'+alg+'_'+pr+'_'+qset \n",
    "    print(fname)\n",
    "    import pandas as pd\n",
    "    df = pd.read_csv(fname)\n",
    "    # print(df.head())\n",
    "    if invert:\n",
    "        df  = df.iloc[::-1]\n",
    "        # df = df.reindex(index=df.index[::-1])\n",
    "    avg_df = df.groupby(loop)[['N','T','H']].mean()\n",
    "    # avg_df = df\n",
    "    # print(avg_df)\n",
    "    avg_df['dHdN'] = avg_df['H'].diff()/avg_df[loop].diff()\n",
    "    # if q == 2:\n",
    "    #     print(avg_df)\n",
    "    _filter = avg_df[avg_df['dHdN'].abs()<=epsilon]\n",
    "    # print(_filter)\n",
    "    Nstar = _filter.iloc[0][loop]\n",
    "    print(qset, ' => ',Nstar)\n",
    "    _max = max(Nstar,_max)\n",
    "print(_max)\n",
    "# avg_df"
   ]
  },
  {
   "attachments": {},
   "cell_type": "markdown",
   "metadata": {},
   "source": [
    "#### Approximation error"
   ]
  },
  {
   "cell_type": "code",
   "execution_count": 139,
   "metadata": {},
   "outputs": [
    {
     "name": "stdout",
     "output_type": "stream",
     "text": [
      "---------- Reach ----------\n",
      "MC   reach  =>  0.012359925549999998   0.06000295148575332\n",
      "MC+BFS   reach  =>  0.012216604899999997   0.039079468724471406\n",
      "PT-MC   reach  =>  0.4581718035999991   0.3441089797363643\n",
      "PT-MC+BFS   reach  =>  0.012216604899999997   0.039079468724471406\n",
      "RSS   reach  =>  0.24611493593715328   0.05846700894532092\n",
      "PT-RSS   reach  =>  0.24611493593715328   0.05846700894532092\n",
      "-------- SP ----------\n",
      "MC   reach  =>  -0.005780552249999982   0.09007400686589298\n",
      "PT-MC   reach  =>  0.9877332686500013   0.7175680854470233\n",
      "MC+DIJ   reach  =>  0.0220001465   0.1257182127424024\n",
      "PT-MC+DIJ   reach  =>  0.0220001465   0.1257182127424024\n",
      "------- Tri ------\n",
      "(1, 13)\n",
      "MC   reach  =>  -0.01529226442852849   0.0\n",
      "(1, 13)\n",
      "mcapproxtri   reach  =>  0.020440661320366926   0.0\n"
     ]
    }
   ],
   "source": [
    "trial=(\"MC\", \"mcapproxtri\")\n",
    "reachal=(\"MC\" , \"MC+BFS\",\"PT-MC\", \"PT-MC+BFS\", \"RSS\", \"PT-RSS\")\n",
    "spal=( \"MC\" ,\"PT-MC\", \"MC+DIJ\", \"PT-MC+DIJ\")\n",
    "\n",
    "df = pd.read_csv('output/stats.csv')\n",
    "print('---------- Reach ----------')\n",
    "for al in reachal:\n",
    "    cond = (df['algorithm'] == 'exact') & (df['P'] == 'reach')\n",
    "    exact_df = df.loc[cond].sort_values(['source','target'])\n",
    "    cond2 = (df['algorithm'] == al) & (df['P'] == 'reach')\n",
    "    algo_df = df.loc[cond2].sort_values(['source','target'])\n",
    "    diff = exact_df['H'].values - algo_df['H'].values\n",
    "    print(al,' ','reach',' => ',diff.mean(),' ',diff.std())\n",
    "\n",
    "print('-------- SP ----------')\n",
    "for al in spal:\n",
    "    cond = (df['algorithm'] == 'exact') & (df['P'] == 'sp')\n",
    "    exact_df = df.loc[cond].sort_values(['source','target'])\n",
    "    cond2 = (df['algorithm'] == al) & (df['P'] == 'sp')\n",
    "    algo_df = df.loc[cond2].sort_values(['source','target'])\n",
    "    # print(algo_df.shape)\n",
    "    diff = exact_df['H'].values - algo_df['H'].values\n",
    "    print(al,' ','reach',' => ',diff.mean(),' ',diff.std())\n",
    "\n",
    "print('------- Tri ------')\n",
    "for al in trial:\n",
    "    cond = (df['algorithm'] == 'exact') & (df['P'] == 'tri')\n",
    "    exact_df = df.loc[cond].sort_values(['source','target'])\n",
    "    cond2 = (df['algorithm'] == al) & (df['P'] == 'tri')\n",
    "    algo_df = df.loc[cond2].sort_values(['source','target'])\n",
    "    print(algo_df.shape)\n",
    "    diff = exact_df['H'].values - algo_df['H'].values\n",
    "    print(al,' ','reach',' => ',diff.mean(),' ',diff.std())\n"
   ]
  },
  {
   "cell_type": "code",
   "execution_count": 83,
   "metadata": {},
   "outputs": [],
   "source": [
    "\n",
    "# declare -a trial=(\"exact\" \"appr\" \"mcapproxtri\")\n",
    "# declare -a reachal=(\"exact\" \"appr\" \"eappr\" \"mcbfs\" \"pTmcbfs\"  \"rss\" \"pTrss\")\n",
    "# declare -a spal=(\"exact\" \"appr\" \"eappr\" \"mcdij\" \"pTmcdij\")\n",
    "# ## reach\n",
    "# for al in \"${reachal[@]}\" \n",
    "# do\n",
    "#     python measure_main_PeakMem.py -a $al -N 11 -T 85 -pr reach -d ER_15_22 -q data/queries/ER/ER_15_22_1.queries -S\n",
    "#     python measure_main_PeakMem.py -a $al -N 11 -T 85 -pr reach -d ER_15_22 -q data/queries/ER/ER_15_22_2.queries -S\n",
    "#     python measure_main_PeakMem.py -a $al -N 11 -T 85 -pr reach -d ER_15_22 -q data/queries/ER/ER_15_22_3.queries -S \n",
    "#     python measure_main_PeakMem.py -a $al -N 11 -T 85 -pr reach -d ER_15_22 -q data/queries/ER/ER_15_22_4.queries -S \n",
    "# done\n",
    "\n",
    "# ### sp\n",
    "# for al in \"${spal[@]}\" \n",
    "# do\n",
    "#     python measure_main_PeakMem.py -a $al -N 26 -T 165 -pr sp -d ER_15_22 -q data/queries/ER/ER_15_22_1.queries -S\n",
    "#     python measure_main_PeakMem.py -a $al -N 26 -T 165 -pr sp -d ER_15_22 -q data/queries/ER/ER_15_22_2.queries -S\n",
    "#     python measure_main_PeakMem.py -a $al -N 26 -T 165 -pr sp -d ER_15_22 -q data/queries/ER/ER_15_22_3.queries -S \n",
    "#     python measure_main_PeakMem.py -a $al -N 26 -T 165 -pr sp -d ER_15_22 -q data/queries/ER/ER_15_22_4.queries -S \n",
    "# done\n",
    "\n",
    "# ### tri\n",
    "# for al in \"${trial[@]}\" \n",
    "# do\n",
    "#     python measure_main_PeakMem.py -a $al -N 6 -T 100 -pr tri -d ER_15_22 -q data/queries/ER/ER_15_22_1.queries -S\n",
    "# done"
   ]
  },
  {
   "attachments": {},
   "cell_type": "markdown",
   "metadata": {},
   "source": [
    "### Print Edge probability mean & std"
   ]
  },
  {
   "cell_type": "code",
   "execution_count": 211,
   "metadata": {},
   "outputs": [
    {
     "name": "stdout",
     "output_type": "stream",
     "text": [
      "weighted graph? =>  False\n",
      "dataset:  ER_15_22\n",
      "|V|=  15\n",
      "mean p(e) =  0.5086363636363637\n",
      "std p(e) =  0.3012292309633593\n",
      "weighted graph? =>  False\n",
      "dataset:  products\n",
      "|V|=  2173\n",
      "mean p(e) =  0.17264777859249222\n",
      "std p(e) =  0.09432428458258477\n",
      "weighted graph? =>  False\n",
      "dataset:  papers\n",
      "|V|=  995\n",
      "mean p(e) =  0.25518923678886407\n",
      "std p(e) =  0.225087539705383\n",
      "weighted graph? =>  False\n",
      "dataset:  restaurants\n",
      "|V|=  857\n",
      "mean p(e) =  0.18057781088384225\n",
      "std p(e) =  0.06751525073398532\n"
     ]
    }
   ],
   "source": [
    "from src.utils import get_dataset\n",
    "import numpy as np\n",
    "# datasets = ['ER_15_22','products','papers','restaurants']\n",
    "datasets = ['flickr','biomine','rome']\n",
    "for dataset in datasets:\n",
    "    G = get_dataset(dataset)\n",
    "    V = G.count_nodes()\n",
    "    print('dataset: ',dataset)\n",
    "    print('|V|= ',V)\n",
    "    ep = []\n",
    "    for e in G.edict:\n",
    "        ep.append(G.get_prob(e))\n",
    "    print('mean p(e) = ',np.mean(ep))\n",
    "    print('std p(e) = ', np.std(ep))"
   ]
  },
  {
   "attachments": {},
   "cell_type": "markdown",
   "metadata": {},
   "source": [
    "## Ehsan"
   ]
  },
  {
   "cell_type": "code",
   "execution_count": 207,
   "metadata": {},
   "outputs": [
    {
     "data": {
      "image/png": "[encoded data removed]",
      "text/plain": [
       "<Figure size 864x360 with 1 Axes>"
      ]
     },
     "metadata": {},
     "output_type": "display_data"
    }
   ],
   "source": [
    "# H vs Reach Plot\n",
    "import os \n",
    "import pandas as pd \n",
    "parpath = \"Ehsan_shared/ER/T_loop/measure_appr_reach_MoE_and_H_derivatives_added.csv\"\n",
    "df = pd.read_csv(parpath)\n",
    "df = df[['T_values', 'H_Q1_Derivatives',\n",
    "       'H_Q2_Derivatives', 'H_Q3_Derivatives', 'H_Q4_Derivatives']]\n",
    "df.columns = ['T','Q1','Q2','Q3','Q4']\n",
    "df = df[['T','Q2','Q4']]\n",
    "opt_T = 85\n",
    "\n",
    "from matplotlib import pyplot as plt \n",
    "plt.rcParams['text.usetex'] = True\n",
    "from matplotlib.lines import Line2D,lineStyles\n",
    "from itertools import cycle\n",
    "import seaborn as sns \n",
    "import numpy as np\n",
    "sns.set(rc={'figure.figsize':(12,5)})\n",
    "sns.set_style(\"dark\", {'axes.grid' : False})\n",
    "sns.set_style(\"ticks\")\n",
    "# plt.style.use('grayscale')\n",
    "fontsize = 34\n",
    "labelsize = 26\n",
    "lw = 4\n",
    "\n",
    "# lstyles = ['dotted','dashed','dashdot','solid',(0,(5,1)),(0,(1,1)),(0, (3, 5, 1, 5))]\n",
    "# markers = ['.','s','v','o','<','>', 'D']\n",
    "markers = [None,None,None,None]\n",
    "# sns.lineplot(x='T', y='Q1', data=df,marker = markers[0], label = 'Q1', linewidth=lw, markersize=12,color='g')\n",
    "sns.lineplot(x='T', y='Q2', data=df,marker = markers[1], label = 'Q2', linewidth=lw, markersize=8,color='k')\n",
    "# sns.lineplot(x='T', y='Q3', data=df,marker = markers[2], label = 'Q3', linewidth=lw, markersize=12,color='r')\n",
    "sns.lineplot(x='T', y='Q4', data=df,marker = markers[3], label = 'Q4', linewidth=lw, markersize=8,color='b')\n",
    "x = np.arange(df.shape[0])\n",
    "zero = np.zeros_like(x)\n",
    "eps = np.ones_like(x)*0.03\n",
    "plt.plot(x, zero, 'b-')\n",
    "plt.fill_between(x, zero - eps, zero + eps, color='r', alpha=0.4)\n",
    "ax = plt.gca()\n",
    "ax.axvline(opt_T-2,linestyle='--',color='r',linewidth=lw)\n",
    "ax.text(opt_T-2, -.05, '$T^*='+str(opt_T)+'$', color='red', fontsize = fontsize-8, \\\n",
    "        transform=ax.get_xaxis_transform(), ha='center', va='top')\n",
    "# ax1.axvline(50)\n",
    "\n",
    "plt.ylabel('$\\Delta H/\\Delta T$',fontsize=fontsize)\n",
    "plt.xlabel('T',fontsize=fontsize)\n",
    "plt.xticks([0,50,100,150,200],fontsize=fontsize-2)\n",
    "plt.yticks(fontsize=fontsize-2)\n",
    "plt.xlim((0,200))\n",
    "plt.legend(loc = 'upper left', fontsize=fontsize+6, bbox_to_anchor=(0.8,1.01),frameon = False,prop={\"size\":28})\n",
    "plt.tight_layout()\n",
    "os.system('mkdir -p figs/')\n",
    "plt.savefig('figs/er_appr_reach_TvsDerH.pdf')\n",
    "plt.show()"
   ]
  },
  {
   "cell_type": "code",
   "execution_count": null,
   "metadata": {},
   "outputs": [],
   "source": []
  }
 ],
 "metadata": {
  "kernelspec": {
   "display_name": "base",
   "language": "python",
   "name": "python3"
  },
  "language_info": {
   "codemirror_mode": {
    "name": "ipython",
    "version": 3
   },
   "file_extension": ".py",
   "mimetype": "text/x-python",
   "name": "python",
   "nbconvert_exporter": "python",
   "pygments_lexer": "ipython3",
   "version": "3.8.8"
  },
  "orig_nbformat": 4
 },
 "nbformat": 4,
 "nbformat_minor": 2
}
