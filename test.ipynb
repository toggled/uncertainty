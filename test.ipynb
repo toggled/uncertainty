{
 "cells": [
  {
   "cell_type": "code",
   "execution_count": 25,
   "metadata": {},
   "outputs": [],
   "source": [
    "import pandas as pd\n",
    "import ast\n",
    "f = pd.read_csv('flickr_tri.csv')\n",
    "T = []\n",
    "Omegas = []\n",
    "min_omegas = []\n",
    "max_omegas = []\n",
    "H = []\n",
    "for i in f.iterrows():\n",
    "    t = int(i[1][0])\n",
    "    omegas = ast.literal_eval(i[1][1])\n",
    "    Omegas.append(omegas)\n",
    "    T.append(t)\n",
    "    min_omegas.append(min(omegas))\n",
    "    max_omegas.append(max(omegas))\n",
    "    H.append(float(i[1][2]))\n",
    "    # print(i[1])"
   ]
  },
  {
   "cell_type": "code",
   "execution_count": 53,
   "metadata": {},
   "outputs": [
    {
     "data": {
      "image/png": "[encoded data removed]",
      "text/plain": [
       "<Figure size 432x288 with 1 Axes>"
      ]
     },
     "metadata": {
      "needs_background": "light"
     },
     "output_type": "display_data"
    },
    {
     "data": {
      "image/png": "[encoded data removed]",
      "text/plain": [
       "<Figure size 432x288 with 1 Axes>"
      ]
     },
     "metadata": {
      "needs_background": "light"
     },
     "output_type": "display_data"
    },
    {
     "data": {
      "image/png": "[encoded data removed]",
      "text/plain": [
       "<Figure size 432x288 with 1 Axes>"
      ]
     },
     "metadata": {
      "needs_background": "light"
     },
     "output_type": "display_data"
    }
   ],
   "source": [
    "from matplotlib import pyplot as plt\n",
    "import math\n",
    "om = Omegas[-1]\n",
    "# plt.subplots(111,figsize=(10,5))\n",
    "num_bins = int(math.sqrt(len(om)))\n",
    "plt.hist(om,bins = num_bins)\n",
    "plt.title('#partitions = '+str(num_bins)+', #MC samples = '+str(len(om)))\n",
    "ax= plt.gca(); ax.ticklabel_format(style='plain')\n",
    "plt.show(); plt.close()\n",
    "\n",
    "plt.hist(om,bins = num_bins//3)\n",
    "plt.title('#partitions = '+str(int(num_bins/3))+', #MC samples = '+str(len(om)))\n",
    "ax= plt.gca(); ax.ticklabel_format(style='plain')\n",
    "plt.show(); plt.close()\n",
    "\n",
    "plt.hist(om,bins = num_bins*3)\n",
    "plt.title('#partitions = '+str(num_bins*3)+', #MC samples = '+str(len(om)))\n",
    "ax= plt.gca(); ax.ticklabel_format(style='plain')\n",
    "plt.show(); plt.close()"
   ]
  },
  {
   "cell_type": "code",
   "execution_count": null,
   "metadata": {},
   "outputs": [],
   "source": []
  },
  {
   "cell_type": "code",
   "execution_count": 1,
   "metadata": {},
   "outputs": [
    {
     "name": "stderr",
     "output_type": "stream",
     "text": [
      "usage: ipykernel_launcher.py [-h] [-d DATASET] [-a ALGO] [-u UTYPE] [-k K]\n",
      "                             [-v] [-s SOURCE] [-t TARGET] [-pr PROPERTY]\n",
      "                             [-K K] [-ea EST_ALGO] [-q QUERYF] [-b BUCKETING]\n",
      "                             [-dh HOP] [-db]\n",
      "ipykernel_launcher.py: error: unrecognized arguments: --ip=127.0.0.1 --stdin=9003 --control=9001 --hb=9000 --Session.signature_scheme=\"hmac-sha256\" --Session.key=b\"e5cafa30-791f-49c4-935a-ab143b22dc1a\" --shell=9002 --transport=\"tcp\" --iopub=9004 --f=c:\\Users\\naheedanjum.arafat\\AppData\\Roaming\\jupyter\\runtime\\kernel-v2-183049gHcijtMf7G9.json\n"
     ]
    },
    {
     "ename": "SystemExit",
     "evalue": "2",
     "output_type": "error",
     "traceback": [
      "An exception has occurred, use %tb to see the full traceback.\n",
      "\u001b[1;31mSystemExit\u001b[0m\u001b[1;31m:\u001b[0m 2\n"
     ]
    },
    {
     "name": "stderr",
     "output_type": "stream",
     "text": [
      "c:\\Users\\naheedanjum.arafat\\Anaconda3\\lib\\site-packages\\IPython\\core\\interactiveshell.py:3445: UserWarning: To exit: use 'exit', 'quit', or Ctrl-D.\n",
      "  warn(\"To exit: use 'exit', 'quit', or Ctrl-D.\", stacklevel=1)\n"
     ]
    }
   ],
   "source": [
    "import os,json\n",
    "# from unittest import result\n",
    "import networkx as nx\n",
    "from src.utils import *\n",
    "from src.algorithm import Algorithm,ApproximateAlgorithm\n",
    "from src.query import Query,wQuery,multiGraphQuery,multiGraphwQuery\n",
    "import pandas as pd\n",
    "from datetime import datetime\n",
    "from reduce_main import singleQuery_singleRun"
   ]
  },
  {
   "cell_type": "code",
   "execution_count": 2,
   "metadata": {},
   "outputs": [
    {
     "name": "stdout",
     "output_type": "stream",
     "text": [
      "weighted graph? =>  False\n",
      "Reachability( s , y )\n",
      "Greedy algorithm (w/ exact mem.): \n",
      "Iteration:  0\n",
      "{1: {('x', 'y'): 0.8333333333333334, ('s', 'x'): 0.0, ('s', 'y'): 0, ('s', 'u'): 2.0}}\n",
      "[('s', 'u')]\n",
      "Iteration:  0\n",
      "{1: {('x', 'y'): 0.5555555555555556, ('s', 'x'): 0.0, ('s', 'y'): 0, ('s', 'u'): 0}}\n",
      "[('s', 'x')]\n",
      "Iteration:  0\n",
      "{1: {('x', 'y'): 0.8333333333333334, ('s', 'x'): 0, ('s', 'y'): 0, ('s', 'u'): 0}}\n",
      "[('s', 'x')]\n",
      "Iteration:  0\n",
      "{1: {('x', 'y'): 1.0, ('s', 'x'): 0, ('s', 'y'): 0, ('s', 'u'): 0}}\n",
      "[('x', 'y')]\n",
      "Iteration:  0\n",
      "{1: {('x', 'y'): 0, ('s', 'x'): 0, ('s', 'y'): 0, ('s', 'u'): 0}}\n",
      "[('x', 'y')]\n",
      "Iteration:  0\n",
      "{1: {('x', 'y'): 0, ('s', 'x'): 0, ('s', 'y'): 0, ('s', 'u'): 0}}\n",
      "[('x', 'y')]\n",
      "Iteration:  0\n",
      "{1: {('x', 'y'): 0, ('s', 'x'): 0, ('s', 'y'): 0, ('s', 'u'): 0}}\n",
      "[('x', 'y')]\n",
      "Iteration:  0\n",
      "{1: {('x', 'y'): 0, ('s', 'x'): 0, ('s', 'y'): 0, ('s', 'u'): 0}}\n",
      "[('x', 'y')]\n"
     ]
    }
   ],
   "source": [
    "dataset = 'default'\n",
    "property = 'reach'\n",
    "source = 's'\n",
    "target = 'y'\n",
    "dhopreach = False \n",
    "hop = -1\n",
    "k = 1 \n",
    "G = get_dataset(dataset)\n",
    "os.environ['time_seed'] = 'True'\n",
    "if property == 'reach':\n",
    "    if dhopreach:\n",
    "        print('#<d-hop reachability (',source,',',target,')')\n",
    "        Q = Query(G, 'reach_d',args = {'u':source,'v':target, 'd':hop})\n",
    "    else:\n",
    "        print('Reachability(',source,',',target,')')\n",
    "        Q = Query(G,'reach',{'u':source,'v':target})\n",
    "\n",
    "if property == 'sp':\n",
    "    print('Shortest path')\n",
    "    Q = wQuery(G,'sp',{'u':source,'v':target})\n",
    "if property == 'tri':\n",
    "    print('#Triangles')\n",
    "    Q = Query(G,'tri')\n",
    "a = Algorithm(G, Q, debug = True)\n",
    "print(\"Greedy algorithm (w/ exact mem.): \")\n",
    "a.algorithm5(k = k, update_type='o1', verbose = False)\n",
    "M = a.algostat['M']\n",
    "hatMList = []\n",
    "for K in range(2,10):\n",
    "    Q = Query(G,'reach',{'u':source,'v':target})\n",
    "    a = ApproximateAlgorithm(G, Q, debug = True)\n",
    "    a.algorithm5(property = Q.qtype, algorithm = 'exact', \\\n",
    "                    k = k, K = K, update_type='o1', verbose = False)\n",
    "    hatMList.append(a.algostat['M'])\n",
    "    print(a.algostat['result']['edges'])"
   ]
  },
  {
   "cell_type": "code",
   "execution_count": 18,
   "metadata": {},
   "outputs": [
    {
     "data": {
      "text/plain": [
       "dict_items([(1, {('x', 'y'): 0, ('s', 'x'): 0, ('s', 'y'): 0, ('s', 'u'): 0})])"
      ]
     },
     "execution_count": 18,
     "metadata": {},
     "output_type": "execute_result"
    }
   ],
   "source": [
    "hatMList[-1].items()"
   ]
  },
  {
   "cell_type": "code",
   "execution_count": 19,
   "metadata": {},
   "outputs": [
    {
     "data": {
      "text/plain": [
       "{1: {('x', 'y'): 0, ('s', 'x'): 0, ('s', 'y'): 0, ('s', 'u'): 0}}"
      ]
     },
     "execution_count": 19,
     "metadata": {},
     "output_type": "execute_result"
    }
   ],
   "source": [
    "hatMList[-3]"
   ]
  },
  {
   "cell_type": "code",
   "execution_count": 25,
   "metadata": {},
   "outputs": [
    {
     "data": {
      "text/plain": [
       "{0: {('x', 'y'): 0.18000000000000002,\n",
       "  ('s', 'x'): 0.12000000000000004,\n",
       "  ('s', 'y'): 0.0,\n",
       "  ('s', 'u'): 0.22800000000000004},\n",
       " 1: {('x', 'y'): 0.8200000000000001,\n",
       "  ('s', 'x'): 0.88,\n",
       "  ('s', 'y'): 1.0,\n",
       "  ('s', 'u'): 0.772}}"
      ]
     },
     "execution_count": 25,
     "metadata": {},
     "output_type": "execute_result"
    }
   ],
   "source": [
    "M"
   ]
  },
  {
   "attachments": {},
   "cell_type": "markdown",
   "metadata": {},
   "source": [
    "### ER N vs dH Plot"
   ]
  },
  {
   "cell_type": "code",
   "execution_count": 2,
   "metadata": {},
   "outputs": [
    {
     "name": "stdout",
     "output_type": "stream",
     "text": [
      "output/measure_biomine_mcbfs_reach_2.queries.csv\n",
      "2.queries.csv  =>  16.0\n",
      "16.0\n"
     ]
    }
   ],
   "source": [
    "# pr = 'tri'\n",
    "# pr = 'sp'\n",
    "pr='reach'\n",
    "# alg = 'appr'\n",
    "# alg = 'mcdij'\n",
    "alg = 'mcbfs'\n",
    "# alg = 'mcapproxtri'\n",
    "# data = 'ER_15_22'\n",
    "# data = 'flickr'\n",
    "# data = 'rome'\n",
    "data = 'biomine'\n",
    "_max = -1\n",
    "# invert = True\n",
    "invert = False\n",
    "loop = 'N' # 'T'\n",
    "epsilon = 0.001\n",
    "# epsilon = 0.03\n",
    "for q in [2]:\n",
    "# for q in [1,2,3,4]:\n",
    "# for q in [1]:\n",
    "    qset = str(q)+'.queries.csv'\n",
    "    fname = 'output/measure_'+data+'_'+alg+'_'+pr+'_'+qset \n",
    "    print(fname)\n",
    "    import pandas as pd\n",
    "    df = pd.read_csv(fname)\n",
    "    # print(df.head())\n",
    "    if invert:\n",
    "        df  = df.iloc[::-1]\n",
    "        # df = df.reindex(index=df.index[::-1])\n",
    "    avg_df = df.groupby(loop)[['N','T','H']].mean()\n",
    "    # avg_df = df\n",
    "    # print(avg_df)\n",
    "    avg_df['dHdN'] = avg_df['H'].diff()/avg_df[loop].diff()\n",
    "    # if q == 2:\n",
    "    #     print(avg_df)\n",
    "    _filter = avg_df[avg_df['dHdN'].abs()<=epsilon]\n",
    "    # print(_filter)\n",
    "    Nstar = _filter.iloc[0][loop]\n",
    "    print(qset, ' => ',Nstar)\n",
    "    _max = max(Nstar,_max)\n",
    "print(_max)\n",
    "# avg_df"
   ]
  },
  {
   "cell_type": "code",
   "execution_count": 77,
   "metadata": {},
   "outputs": [
    {
     "name": "stdout",
     "output_type": "stream",
     "text": [
      "output/measure_ER_15_22_appr_tri_1.queries.csv\n",
      "-- 1.queries.csv  =>  11\n",
      "11\n"
     ]
    }
   ],
   "source": [
    "import pandas as pd\n",
    "\n",
    "# pr = 'tri'\n",
    "# pr = 'reach'\n",
    "pr='sp'\n",
    "alg = 'appr'\n",
    "# alg = 'mcdij'\n",
    "# alg = 'mcbfs'\n",
    "# alg = 'mcapproxtri'\n",
    "data = 'ER_15_22'\n",
    "# data = 'flickr'\n",
    "# data = 'rome'\n",
    "# data = 'biomine'\n",
    "_max = -1\n",
    "# invert = True\n",
    "invert = False\n",
    "# loop = 'N' # 'T'\n",
    "loop = 'T'\n",
    "# epsilon = 0.001\n",
    "epsilon = 0.03\n",
    "step = 5\n",
    "for q in [2,4]:\n",
    "# for q in [1,2,3,4]:\n",
    "# for q in [1]:\n",
    "    qset = str(q)+'.queries.csv'\n",
    "    # qset = str(q)+'.queries_NLoops.csv'\n",
    "    fname = 'output/measure_'+data+'_'+alg+'_'+pr+'_'+qset \n",
    "    print(fname)\n",
    "    df = pd.read_csv(fname)\n",
    "    df[loop] = df[loop].astype('int')\n",
    "    # print(df.shape)\n",
    "    # print(df[loop].head(10))\n",
    "    # print(df[loop]%5 == 1)\n",
    "    df = df[df[loop]%5==1]\n",
    "    # print(df.shape)\n",
    "    if invert:\n",
    "        df  = df.iloc[::-1]\n",
    "        # df = df.reindex(index=df.index[::-1])\n",
    "    avg_df = df.groupby(loop)[['N','T','H']].mean()\n",
    "    # avg_df = df\n",
    "    # print(avg_df)\n",
    "    avg_df['dHdN'] = avg_df['H'].diff()/avg_df[loop].diff()\n",
    "    # if q == 2:\n",
    "    #     print(avg_df)\n",
    "    boole = (avg_df['dHdN'].abs()<=epsilon)\n",
    "    # print(boole)\n",
    "    _last_False =  (boole[boole==False].index[-1])\n",
    "    # print(_last_False)\n",
    "    _filter = avg_df[boole]\n",
    "    # print(_filter)\n",
    "    # Nstar = _filter.iloc[_last_False][loop]\n",
    "    Nstar = avg_df[avg_df.index==_last_False][loop].values[0]\n",
    "    print('--',qset, ' => ',Nstar)\n",
    "    _max = max(Nstar,_max)\n",
    "print(_max)\n",
    "# avg_df"
   ]
  },
  {
   "cell_type": "code",
   "execution_count": 10,
   "metadata": {},
   "outputs": [
    {
     "name": "stdout",
     "output_type": "stream",
     "text": [
      "output/measure_ER_15_22_appr_reach_2.queries.csv\n",
      "output/measure_ER_15_22_appr_reach_4.queries.csv\n",
      "161\n"
     ]
    },
    {
     "data": {
      "image/png": "[encoded data removed]",
      "text/plain": [
       "<Figure size 576x288 with 2 Axes>"
      ]
     },
     "metadata": {},
     "output_type": "display_data"
    },
    {
     "data": {
      "text/plain": [
       "<Figure size 864x288 with 0 Axes>"
      ]
     },
     "metadata": {},
     "output_type": "display_data"
    }
   ],
   "source": [
    "import pandas as pd\n",
    "from matplotlib.ticker import FormatStrFormatter\n",
    "\n",
    "pr = 'reach'\n",
    "# pr = 'sp'\n",
    "# pr='tri'\n",
    "alg = 'appr'\n",
    "# alg = 'mcdij'\n",
    "# alg = 'mcbfs'\n",
    "# alg = 'mcapproxtri'\n",
    "# data = 'products'\n",
    "# data = 'papers'\n",
    "# data = 'restaurants'\n",
    "data = 'ER_15_22'\n",
    "# data = 'flickr'\n",
    "# data = 'rome'\n",
    "# data = 'biomine'\n",
    "_max = -1\n",
    "# invert = True\n",
    "invert = False\n",
    "loop = 'N' # 'T'\n",
    "# loop = 'T'\n",
    "epsilon = [0.001,0.03][loop=='T']\n",
    "# epsilon = 0.03\n",
    "step = 5\n",
    "final = []\n",
    "for q in [2,4]:\n",
    "# for q in [2,4,6]:\n",
    "# for q in [1,2,3,4]:\n",
    "# for q in [1]:\n",
    "    qset = str(q)+'.queries.csv'\n",
    "    # qset = str(q)+'.queries_NLoops.csv'\n",
    "    fname = 'output/measure_'+data+'_'+alg+'_'+pr+'_'+qset \n",
    "    print(fname)\n",
    "    df = pd.read_csv(fname)\n",
    "    df[loop] = df[loop].astype('int')\n",
    "    # print(df.shape)\n",
    "    # print(df[loop].head(10))\n",
    "    # print(df[loop]%5 == 1)\n",
    "    if step>1:\n",
    "        df = df[df[loop]% step==1]\n",
    "    final.append(df)\n",
    "df = pd.concat(final)\n",
    "# print(df.shape)\n",
    "if invert:\n",
    "    df  = df.iloc[::-1]\n",
    "    # df = df.reindex(index=df.index[::-1])\n",
    "avg_df = df.groupby(loop)[['N','T','H']].mean()\n",
    "# avg_df = df\n",
    "# print(avg_df.shape)\n",
    "avg_df['dHdN'] = avg_df['H'].diff()/avg_df[loop].diff()\n",
    "# if q == 2:\n",
    "#     print(avg_df)\n",
    "# print(avg_df['dHdN'].shape)\n",
    "boole = (avg_df['dHdN'].abs()<=epsilon)\n",
    "# print(boole)\n",
    "_last_False =  (boole[boole==False].index[-1])\n",
    "# print(_last_False)\n",
    "# _filter = avg_df[boole]\n",
    "# print(_filter)\n",
    "# Nstar = _filter.iloc[_last_False][loop]\n",
    "opt = avg_df[avg_df.index==_last_False][loop].values[0]\n",
    "print(opt) \n",
    "\n",
    "# print(avg_df.N.max())\n",
    "from matplotlib import pyplot as plt \n",
    "plt.rcParams['text.usetex'] = True\n",
    "from matplotlib.lines import Line2D,lineStyles\n",
    "from itertools import cycle\n",
    "import seaborn as sns \n",
    "import numpy as np\n",
    "sns.set(rc={'figure.figsize':(12,4)})\n",
    "sns.set_style(\"dark\", {'axes.grid' : False})\n",
    "sns.set_style(\"ticks\")\n",
    "# plt.style.use('grayscale')\n",
    "fontsize = 34\n",
    "labelsize = 26\n",
    "lw = 4\n",
    "# avg_df['dHdN'].plot(xlim=(1,101),figsize=(8,4),lw=lw)\n",
    "avg_df.plot(loop,'dHdN',figsize=(8,4),lw=lw,legend = None)\n",
    "ax = plt.gca()\n",
    "if data == 'ER_15_22':\n",
    "    ax.yaxis.set_major_formatter(FormatStrFormatter('%.2f'))\n",
    "else:\n",
    "    ax.yaxis.set_major_formatter(FormatStrFormatter('%.3f'))\n",
    "\n",
    "ax.axvline(opt,linestyle='--',color='r',linewidth=lw)\n",
    "ax.text(opt+5, -.05, '$'+loop+'^*='+str(opt)+'$', color='red', fontsize = fontsize-8, \\\n",
    "        transform=ax.get_xaxis_transform(), ha='center', va='top')\n",
    "x = avg_df[loop] # np.arange(avg_df.shape[0])\n",
    "zero = np.zeros_like(x)\n",
    "eps = np.ones_like(x)*epsilon\n",
    "# plt.plot(x, zero, 'k-',axes=ax)\n",
    "plt.fill_between(x, zero - eps, zero + eps, color='r', alpha=0.4)\n",
    "\n",
    "plt.ylabel('$\\Delta H/\\Delta '+loop+'$',fontsize=fontsize)\n",
    "plt.xlabel(loop,fontsize=fontsize)\n",
    "ax.xaxis.set_major_formatter(FormatStrFormatter('%d'))\n",
    "# plt.xticks(np.linspace(avg_df[loop].min(),avg_df[loop].max()//2,3),fontsize=fontsize-2)\n",
    "plt.xticks([1,50,100], fontsize=fontsize-2)\n",
    "plt.yticks([-epsilon,0,epsilon]+np.linspace(2*epsilon,avg_df['dHdN'].max(),3).tolist(),fontsize=fontsize-2,color='blue')\n",
    "# plt.yticks([-0.03,0,0.03,0.06,avg_df['dHdN'].max()],fontsize=fontsize-2)\n",
    "# ax.rig\n",
    "# plt.yticks(fontsize=fontsize-2)\n",
    "ax2 = ax.twinx()\n",
    "avg_df.plot(loop,'H',ax=ax2,color='k',legend=None,lw=lw)\n",
    "plt.yticks(np.linspace(avg_df['H'].min(),avg_df['H'].max(),5),fontsize=fontsize-2)\n",
    "plt.ylabel('$H$',fontsize=fontsize)\n",
    "ax = plt.gca()\n",
    "if data == 'ER_15_22':\n",
    "    ax.yaxis.set_major_formatter(FormatStrFormatter('%.1f'))\n",
    "else:\n",
    "    ax.yaxis.set_major_formatter(FormatStrFormatter('%.2f'))\n",
    "# ax.set_yticks('left',fontsize=fontsize-2)\n",
    "# print(avg_df['H'])\n",
    "plt.xlim((1,100))\n",
    "# plt.legend(loc = 'upper left', fontsize=fontsize+6, bbox_to_anchor=(0.8,1.01),frameon = False,prop={\"size\":28})\n",
    "plt.tight_layout()\n",
    "plt.savefig('figs/er_'+alg+'_'+pr+'_'+loop+'loop.pdf')\n",
    "plt.show()\n",
    "plt.clf()\n",
    "# avg_df"
   ]
  },
  {
   "attachments": {},
   "cell_type": "markdown",
   "metadata": {},
   "source": [
    "#### Approximation error"
   ]
  },
  {
   "cell_type": "code",
   "execution_count": 139,
   "metadata": {},
   "outputs": [
    {
     "name": "stdout",
     "output_type": "stream",
     "text": [
      "---------- Reach ----------\n",
      "MC   reach  =>  0.012359925549999998   0.06000295148575332\n",
      "MC+BFS   reach  =>  0.012216604899999997   0.039079468724471406\n",
      "PT-MC   reach  =>  0.4581718035999991   0.3441089797363643\n",
      "PT-MC+BFS   reach  =>  0.012216604899999997   0.039079468724471406\n",
      "RSS   reach  =>  0.24611493593715328   0.05846700894532092\n",
      "PT-RSS   reach  =>  0.24611493593715328   0.05846700894532092\n",
      "-------- SP ----------\n",
      "MC   reach  =>  -0.005780552249999982   0.09007400686589298\n",
      "PT-MC   reach  =>  0.9877332686500013   0.7175680854470233\n",
      "MC+DIJ   reach  =>  0.0220001465   0.1257182127424024\n",
      "PT-MC+DIJ   reach  =>  0.0220001465   0.1257182127424024\n",
      "------- Tri ------\n",
      "(1, 13)\n",
      "MC   reach  =>  -0.01529226442852849   0.0\n",
      "(1, 13)\n",
      "mcapproxtri   reach  =>  0.020440661320366926   0.0\n"
     ]
    }
   ],
   "source": [
    "trial=(\"MC\", \"mcapproxtri\")\n",
    "reachal=(\"MC\" , \"MC+BFS\",\"PT-MC\", \"PT-MC+BFS\", \"RSS\", \"PT-RSS\")\n",
    "spal=( \"MC\" ,\"PT-MC\", \"MC+DIJ\", \"PT-MC+DIJ\")\n",
    "\n",
    "df = pd.read_csv('output/stats.csv')\n",
    "print('---------- Reach ----------')\n",
    "for al in reachal:\n",
    "    cond = (df['algorithm'] == 'exact') & (df['P'] == 'reach')\n",
    "    exact_df = df.loc[cond].sort_values(['source','target'])\n",
    "    cond2 = (df['algorithm'] == al) & (df['P'] == 'reach')\n",
    "    algo_df = df.loc[cond2].sort_values(['source','target'])\n",
    "    diff = exact_df['H'].values - algo_df['H'].values\n",
    "    print(al,' ','reach',' => ',diff.mean(),' ',diff.std())\n",
    "\n",
    "print('-------- SP ----------')\n",
    "for al in spal:\n",
    "    cond = (df['algorithm'] == 'exact') & (df['P'] == 'sp')\n",
    "    exact_df = df.loc[cond].sort_values(['source','target'])\n",
    "    cond2 = (df['algorithm'] == al) & (df['P'] == 'sp')\n",
    "    algo_df = df.loc[cond2].sort_values(['source','target'])\n",
    "    # print(algo_df.shape)\n",
    "    diff = exact_df['H'].values - algo_df['H'].values\n",
    "    print(al,' ','reach',' => ',diff.mean(),' ',diff.std())\n",
    "\n",
    "print('------- Tri ------')\n",
    "for al in trial:\n",
    "    cond = (df['algorithm'] == 'exact') & (df['P'] == 'tri')\n",
    "    exact_df = df.loc[cond].sort_values(['source','target'])\n",
    "    cond2 = (df['algorithm'] == al) & (df['P'] == 'tri')\n",
    "    algo_df = df.loc[cond2].sort_values(['source','target'])\n",
    "    print(algo_df.shape)\n",
    "    diff = exact_df['H'].values - algo_df['H'].values\n",
    "    print(al,' ','reach',' => ',diff.mean(),' ',diff.std())\n"
   ]
  },
  {
   "attachments": {},
   "cell_type": "markdown",
   "metadata": {},
   "source": [
    "``Large dataset``"
   ]
  },
  {
   "cell_type": "code",
   "execution_count": 42,
   "metadata": {},
   "outputs": [
    {
     "name": "stdout",
     "output_type": "stream",
     "text": [
      "-------- SP ----------\n",
      "accuracy=>\n",
      "MC   reach  =>  0.0   0.0\n",
      "effic and mem. => \n",
      "                        peak_memB  execution_time\n",
      "dataset P  algorithm                             \n",
      "rome    sp MC         1835.182515    37292.775357\n",
      "           MC+DIJ     1054.313274    20632.701268\n",
      "accuracy=>\n",
      "MC+DIJ   reach  =>  -0.006455760384615378   0.0655933754041213\n",
      "effic and mem. => \n",
      "                        peak_memB  execution_time\n",
      "dataset P  algorithm                             \n",
      "rome    sp MC         1835.182515    37292.775357\n",
      "           MC+DIJ     1054.313274    20632.701268\n"
     ]
    }
   ],
   "source": [
    "import pandas as pd\n",
    "trial=(\"MC\", \"mcapproxtri\")\n",
    "reachal=(\"MC\" , \"MC+BFS\",\"PT-MC\", \"PT-MC+BFS\", \"RSS\", \"PT-RSS\")\n",
    "spal=( \"MC\" ,\"MC+DIJ\")\n",
    "\n",
    "df = pd.read_csv('output/stats_rome2.csv')\n",
    "print('-------- SP ----------')\n",
    "for al in spal:\n",
    "    cond = (df['algorithm'] == 'MC') & (df['P'] == 'sp')\n",
    "    exact_df = df.loc[cond].sort_values(['source','target'])\n",
    "    cond2 = (df['algorithm'] == al) & (df['P'] == 'sp')\n",
    "    algo_df = df.loc[cond2].sort_values(['source','target'])\n",
    "    # print(algo_df.shape)\n",
    "    # print(exact_df[['source','target']])\n",
    "    diff = exact_df['H'].values - algo_df['H'].values\n",
    "    print('accuracy=>')\n",
    "    print(al,' ','reach',' => ',diff.mean(),' ',diff.std())\n",
    "    print('effic and mem. => ')\n",
    "    grp = df.groupby(['dataset','P','algorithm'])\n",
    "    print(grp[['peak_memB','execution_time']].mean())\n"
   ]
  },
  {
   "cell_type": "code",
   "execution_count": 83,
   "metadata": {},
   "outputs": [],
   "source": [
    "\n",
    "# declare -a trial=(\"exact\" \"appr\" \"mcapproxtri\")\n",
    "# declare -a reachal=(\"exact\" \"appr\" \"eappr\" \"mcbfs\" \"pTmcbfs\"  \"rss\" \"pTrss\")\n",
    "# declare -a spal=(\"exact\" \"appr\" \"eappr\" \"mcdij\" \"pTmcdij\")\n",
    "# ## reach\n",
    "# for al in \"${reachal[@]}\" \n",
    "# do\n",
    "#     python measure_main_PeakMem.py -a $al -N 11 -T 85 -pr reach -d ER_15_22 -q data/queries/ER/ER_15_22_1.queries -S\n",
    "#     python measure_main_PeakMem.py -a $al -N 11 -T 85 -pr reach -d ER_15_22 -q data/queries/ER/ER_15_22_2.queries -S\n",
    "#     python measure_main_PeakMem.py -a $al -N 11 -T 85 -pr reach -d ER_15_22 -q data/queries/ER/ER_15_22_3.queries -S \n",
    "#     python measure_main_PeakMem.py -a $al -N 11 -T 85 -pr reach -d ER_15_22 -q data/queries/ER/ER_15_22_4.queries -S \n",
    "# done\n",
    "\n",
    "# ### sp\n",
    "# for al in \"${spal[@]}\" \n",
    "# do\n",
    "#     python measure_main_PeakMem.py -a $al -N 26 -T 165 -pr sp -d ER_15_22 -q data/queries/ER/ER_15_22_1.queries -S\n",
    "#     python measure_main_PeakMem.py -a $al -N 26 -T 165 -pr sp -d ER_15_22 -q data/queries/ER/ER_15_22_2.queries -S\n",
    "#     python measure_main_PeakMem.py -a $al -N 26 -T 165 -pr sp -d ER_15_22 -q data/queries/ER/ER_15_22_3.queries -S \n",
    "#     python measure_main_PeakMem.py -a $al -N 26 -T 165 -pr sp -d ER_15_22 -q data/queries/ER/ER_15_22_4.queries -S \n",
    "# done\n",
    "\n",
    "# ### tri\n",
    "# for al in \"${trial[@]}\" \n",
    "# do\n",
    "#     python measure_main_PeakMem.py -a $al -N 6 -T 100 -pr tri -d ER_15_22 -q data/queries/ER/ER_15_22_1.queries -S\n",
    "# done"
   ]
  },
  {
   "attachments": {},
   "cell_type": "markdown",
   "metadata": {},
   "source": [
    "### Print Edge probability mean & std"
   ]
  },
  {
   "cell_type": "code",
   "execution_count": 211,
   "metadata": {},
   "outputs": [
    {
     "name": "stdout",
     "output_type": "stream",
     "text": [
      "weighted graph? =>  False\n",
      "dataset:  ER_15_22\n",
      "|V|=  15\n",
      "mean p(e) =  0.5086363636363637\n",
      "std p(e) =  0.3012292309633593\n",
      "weighted graph? =>  False\n",
      "dataset:  products\n",
      "|V|=  2173\n",
      "mean p(e) =  0.17264777859249222\n",
      "std p(e) =  0.09432428458258477\n",
      "weighted graph? =>  False\n",
      "dataset:  papers\n",
      "|V|=  995\n",
      "mean p(e) =  0.25518923678886407\n",
      "std p(e) =  0.225087539705383\n",
      "weighted graph? =>  False\n",
      "dataset:  restaurants\n",
      "|V|=  857\n",
      "mean p(e) =  0.18057781088384225\n",
      "std p(e) =  0.06751525073398532\n"
     ]
    }
   ],
   "source": [
    "from src.utils import get_dataset\n",
    "import numpy as np\n",
    "# datasets = ['ER_15_22','products','papers','restaurants']\n",
    "datasets = ['flickr','biomine','rome']\n",
    "for dataset in datasets:\n",
    "    G = get_dataset(dataset)\n",
    "    V = G.count_nodes()\n",
    "    print('dataset: ',dataset)\n",
    "    print('|V|= ',V)\n",
    "    ep = []\n",
    "    for e in G.edict:\n",
    "        ep.append(G.get_prob(e))\n",
    "    print('mean p(e) = ',np.mean(ep))\n",
    "    print('std p(e) = ', np.std(ep))"
   ]
  },
  {
   "cell_type": "code",
   "execution_count": 228,
   "metadata": {},
   "outputs": [
    {
     "name": "stdout",
     "output_type": "stream",
     "text": [
      "weighted graph? =>  False\n",
      "dataset:  ER_15_22\n",
      "|V|=  15\n",
      "mean p(e) =  0.27545454545454545\n",
      "std p(e) =  0.19056679269835772\n"
     ]
    }
   ],
   "source": [
    "from src.utils import get_dataset\n",
    "import numpy as np\n",
    "datasets = ['ER_15_22']\n",
    "# datasets = ['flickr','biomine','rome']\n",
    "for dataset in datasets:\n",
    "    G = get_dataset(dataset)\n",
    "    V = G.count_nodes()\n",
    "    print('dataset: ',dataset)\n",
    "    print('|V|= ',V)\n",
    "    ep = []\n",
    "    for e in G.edict:\n",
    "        ep.append(G.get_prob(e))\n",
    "    print('mean p(e) = ',np.mean(ep))\n",
    "    print('std p(e) = ', np.std(ep))"
   ]
  },
  {
   "cell_type": "code",
   "execution_count": 43,
   "metadata": {},
   "outputs": [
    {
     "name": "stdout",
     "output_type": "stream",
     "text": [
      "weighted graph? =>  False\n",
      "dataset:  ER_15_22\n",
      "max(1/p(e)) =  25.0\n",
      "weighted graph? =>  False\n",
      "dataset:  products\n",
      "max(1/p(e)) =  9.95837399669382\n",
      "weighted graph? =>  False\n",
      "dataset:  papers\n",
      "max(1/p(e)) =  9.874982718780243\n",
      "weighted graph? =>  False\n",
      "dataset:  restaurants\n",
      "max(1/p(e)) =  9.666692444513185\n"
     ]
    }
   ],
   "source": [
    "from src.utils import get_dataset\n",
    "import numpy as np\n",
    "datasets = ['ER_15_22','products','papers','restaurants']\n",
    "# datasets = ['flickr','biomine','rome']\n",
    "for dataset in datasets:\n",
    "    G = get_dataset(dataset)\n",
    "    # V = G.count_nodes()\n",
    "    print('dataset: ',dataset)\n",
    "    # print('|V|= ',V)\n",
    "    ep = []\n",
    "    for e in G.edict:\n",
    "        ep.append(G.get_prob(e))\n",
    "    print('max(1/p(e)) = ',np.max(1.0/np.array(ep)))\n",
    "    # print('std p(e) = ', np.std(ep))"
   ]
  },
  {
   "attachments": {},
   "cell_type": "markdown",
   "metadata": {},
   "source": [
    "## Ehsan"
   ]
  },
  {
   "cell_type": "code",
   "execution_count": 207,
   "metadata": {},
   "outputs": [
    {
     "data": {
      "image/png": "[encoded data removed]",
      "text/plain": [
       "<Figure size 864x360 with 1 Axes>"
      ]
     },
     "metadata": {},
     "output_type": "display_data"
    }
   ],
   "source": [
    "# H vs Reach Plot\n",
    "import os \n",
    "import pandas as pd \n",
    "parpath = \"Ehsan_shared/ER/T_loop/measure_appr_reach_MoE_and_H_derivatives_added.csv\"\n",
    "df = pd.read_csv(parpath)\n",
    "df = df[['T_values', 'H_Q1_Derivatives',\n",
    "       'H_Q2_Derivatives', 'H_Q3_Derivatives', 'H_Q4_Derivatives']]\n",
    "df.columns = ['T','Q1','Q2','Q3','Q4']\n",
    "df = df[['T','Q2','Q4']]\n",
    "opt_T = 85\n",
    "\n",
    "from matplotlib import pyplot as plt \n",
    "plt.rcParams['text.usetex'] = True\n",
    "from matplotlib.lines import Line2D,lineStyles\n",
    "from itertools import cycle\n",
    "import seaborn as sns \n",
    "import numpy as np\n",
    "sns.set(rc={'figure.figsize':(12,5)})\n",
    "sns.set_style(\"dark\", {'axes.grid' : False})\n",
    "sns.set_style(\"ticks\")\n",
    "# plt.style.use('grayscale')\n",
    "fontsize = 34\n",
    "labelsize = 26\n",
    "lw = 4\n",
    "\n",
    "# lstyles = ['dotted','dashed','dashdot','solid',(0,(5,1)),(0,(1,1)),(0, (3, 5, 1, 5))]\n",
    "# markers = ['.','s','v','o','<','>', 'D']\n",
    "markers = [None,None,None,None]\n",
    "# sns.lineplot(x='T', y='Q1', data=df,marker = markers[0], label = 'Q1', linewidth=lw, markersize=12,color='g')\n",
    "sns.lineplot(x='T', y='Q2', data=df,marker = markers[1], label = 'Q2', linewidth=lw, markersize=8,color='k')\n",
    "# sns.lineplot(x='T', y='Q3', data=df,marker = markers[2], label = 'Q3', linewidth=lw, markersize=12,color='r')\n",
    "sns.lineplot(x='T', y='Q4', data=df,marker = markers[3], label = 'Q4', linewidth=lw, markersize=8,color='b')\n",
    "x = np.arange(df.shape[0])\n",
    "zero = np.zeros_like(x)\n",
    "eps = np.ones_like(x)*0.03\n",
    "plt.plot(x, zero, 'b-')\n",
    "plt.fill_between(x, zero - eps, zero + eps, color='r', alpha=0.4)\n",
    "ax = plt.gca()\n",
    "ax.axvline(opt_T-2,linestyle='--',color='r',linewidth=lw)\n",
    "ax.text(opt_T-2, -.05, '$T^*='+str(opt_T)+'$', color='red', fontsize = fontsize-8, \\\n",
    "        transform=ax.get_xaxis_transform(), ha='center', va='top')\n",
    "# ax1.axvline(50)\n",
    "\n",
    "plt.ylabel('$\\Delta H/\\Delta T$',fontsize=fontsize)\n",
    "plt.xlabel('T',fontsize=fontsize)\n",
    "plt.xticks([0,50,100,150,200],fontsize=fontsize-2)\n",
    "plt.yticks(fontsize=fontsize-2)\n",
    "plt.xlim((0,200))\n",
    "plt.legend(loc = 'upper left', fontsize=fontsize+6, bbox_to_anchor=(0.8,1.01),frameon = False,prop={\"size\":28})\n",
    "plt.tight_layout()\n",
    "os.system('mkdir -p figs/')\n",
    "plt.savefig('figs/er_appr_reach_TvsDerH.pdf')\n",
    "plt.show()"
   ]
  },
  {
   "cell_type": "code",
   "execution_count": null,
   "metadata": {},
   "outputs": [],
   "source": [
    "k=1\n",
    "for i in {0..6}; do \n",
    "    K=$((2**i)); \n",
    "    python reduce_main.py -k $k  -pr reach  -a greedymem -K $K -ea mcbfs -d ER_15_22 -q data/queries/ER/ER_15_22_2.queries &\n",
    "    python reduce_main.py -k $k  -pr reach  -a greedymem -K $K -ea exact -d ER_15_22 -q data/queries/ER/ER_15_22_2.queries &\n",
    "    python reduce_main.py -k $k  -pr reach  -a greedymem -K $K -ea mcbfs -d ER_15_22 -q data/queries/ER/ER_15_22_4.queries &\n",
    "    python reduce_main.py -k $k  -pr reach  -a greedymem -K $K -ea exact -d ER_15_22 -q data/queries/ER/ER_15_22_4.queries &\n",
    "done\n",
    "for i in {0..6}; do \n",
    "    K=$((2**i)); \n",
    "    python reduce_main.py -k $k -K $K -pr reach -a greedy -ea mcbfs -d ER_15_22 -q data/queries/ER/ER_15_22_2.queries &\n",
    "    python reduce_main.py -k $k -K $K -pr reach -a greedy -ea exact -d ER_15_22 -q data/queries/ER/ER_15_22_2.queries &\n",
    "    python reduce_main.py -k $k -K $K -pr reach -a greedy -ea mcbfs -d ER_15_22 -q data/queries/ER/ER_15_22_4.queries &\n",
    "    python reduce_main.py -k $k -K $K -pr reach -a greedy -ea exact -d ER_15_22 -q data/queries/ER/ER_15_22_4.queries &\n",
    "done\n",
    "python reduce_main.py -k $k  -pr reach -a exact -d ER_15_22 -q data/queries/ER/ER_15_22_2.queries &\n",
    "python reduce_main.py -k $k  -pr reach -a exact -d ER_15_22 -q data/queries/ER/ER_15_22_4.queries &"
   ]
  },
  {
   "cell_type": "code",
   "execution_count": 120,
   "metadata": {},
   "outputs": [],
   "source": []
  },
  {
   "cell_type": "code",
   "execution_count": 70,
   "metadata": {},
   "outputs": [
    {
     "name": "stdout",
     "output_type": "stream",
     "text": [
      "[241, 483, 966, 1932, 3864]\n",
      "figs/reduce_ER_15_22_reach_budget_2.pdf\n"
     ]
    },
    {
     "data": {
      "image/png": "[encoded data removed]",
      "text/plain": [
       "<Figure size 648x288 with 1 Axes>"
      ]
     },
     "metadata": {},
     "output_type": "display_data"
    }
   ],
   "source": [
    "from matplotlib import pyplot as plt \n",
    "plt.rcParams['text.usetex'] = True\n",
    "from matplotlib.lines import Line2D,lineStyles\n",
    "from itertools import cycle\n",
    "import seaborn as sns \n",
    "import numpy as np\n",
    "sns.set(rc={'figure.figsize':(9,4)})\n",
    "sns.set_style(\"dark\", {'axes.grid' : False})\n",
    "sns.set_style(\"ticks\")\n",
    "# plt.style.use('grayscale')\n",
    "fontsize = 28\n",
    "labelsize = 22\n",
    "lw = 2\n",
    "\n",
    "k = 2\n",
    "# K = 32\n",
    "folder = 'output/baby/ureduct/'\n",
    "data = 'ER_15_22'\n",
    "alg0 = 'greedymem'\n",
    "a0 = 'greedy+mem'\n",
    "alg1 = 'greedy'\n",
    "a1 = 'greedy'\n",
    "q =   'reach'\n",
    "# q = 'sp'\n",
    "qset = 2 \n",
    "# Kset = [1,2,4,8,16,32,64,128,256]\n",
    "xlabels = ['$2^{'+str(i)+'}NT$' for i in range(-2,3)]\n",
    "if q == 'reach':\n",
    "    nt = 161*6\n",
    "    Kset = [int((2**i)*nt) for i in range(-2,3)]\n",
    "    print(Kset)\n",
    "if q == 'sp':\n",
    "    nt = 286*11\n",
    "    Kset = [int((2**i)*nt) for i in range(-2,3)]\n",
    "varyK0 = [] #greedy+mem\n",
    "varyK1  = [] #greedy\n",
    "est_alg = ['mcbfs','mcdij'][q == 'sp']\n",
    "for K in Kset:\n",
    "    name0 = folder+'reduce_k_'+str(k)+'_K_'+str(K)+'_'+data+'_'+alg0+'_'+q+'_'+str(qset)+'.queries.csv'\n",
    "    name1 = folder+'reduce_k_'+str(k)+'_K_10_'+data+'_'+alg1+'_'+q+'_'+str(qset)+'.queries.csv'\n",
    "    df0 = pd.read_csv(name0)\n",
    "    df1 = pd.read_csv(name1)\n",
    "    df0 = df0[df0['MCalgo'] == est_alg]\n",
    "    df1 = df1[df1['MCalgo'] == est_alg]\n",
    "    # print(K,' ',df0.shape)\n",
    "    varyK0.append(df0)\n",
    "    varyK1.append(df1)\n",
    "\n",
    "exactdf = pd.read_csv(folder+'reduce_k_'+str(k)+'_K_10_'+data+'_'+'exact_'+q+'_'+str(qset)+'.queries.csv')   \n",
    "exact_deltaH = exactdf['DeltaH'].mean()\n",
    "greedy_red = []\n",
    "greedyM_red = []\n",
    "std_red = []\n",
    "stdM_red = []\n",
    "for i,K in enumerate(Kset):\n",
    "    mean,std = varyK0[i]['DeltaH'].mean(), varyK0[i]['DeltaH'].std()\n",
    "    greedyM_red.append(mean)\n",
    "    stdM_red.append(std)\n",
    "    mean,std = varyK1[i]['DeltaH'].mean(), varyK1[i]['DeltaH'].std()\n",
    "    greedy_red.append(mean)\n",
    "    std_red.append(std)\n",
    "#     sns.lineplot(x='K', y='DeltaH', data=varyK0[i], linewidth=lw, markersize=8,color='k')\n",
    "# plt.xscale('log',base=2)\n",
    "# greedy_red = np.array(greedy_red)\n",
    "# std_red = np.array(std_red)\n",
    "# print(greedy_red.shape,' ',std_red.shape,' ',len(greedyM_red),' ',len(stdM_red))\n",
    "plt.plot(Kset,greedy_red,color = 'k',marker='x',label='greedy',linewidth=lw)\n",
    "plt.plot(Kset,greedyM_red,color = 'k',marker='o',label='greedy+mem',linewidth=lw)\n",
    "# plt.fill_between(Kset, np.array(greedyM_red) - np.array(stdM_red), np.array(greedyM_red) + np.array(stdM_red), \\\n",
    "#                  color='r', alpha=0.4)\n",
    "ax = plt.gca()\n",
    "ax.axhline(exact_deltaH,linestyle='--',color='r',linewidth=lw,label='Exact')\n",
    "\n",
    "plt.xscale('log',base=2)\n",
    "plt.xlabel('R',fontsize=fontsize-2)\n",
    "plt.ylabel('$\\hat{H}_0 - \\hat{H}_'+str(k)+'$',fontsize=fontsize-2)\n",
    "# plt.xticks([2**0,2**2,2**4,2**6,2**8],fontsize=fontsize-2)\n",
    "plt.xticks(Kset,fontsize=fontsize-2)\n",
    "ax = plt.gca()\n",
    "ax.set_xticklabels(xlabels)\n",
    "plt.yticks(fontsize=fontsize-2)\n",
    "# plt.legend(fontsize=fontsize+10,frameon = False,prop={\"size\":22},bbox_to_anchor=(0.6,0.4))\n",
    "plt.legend(fontsize=fontsize+10,frameon = False,prop={\"size\":22},bbox_to_anchor=(0.63,0.44))\n",
    "plt.title('Budget = '+str(k),fontsize=fontsize-8)\n",
    "fname = 'figs/reduce_'+data+\"_\"+q+'_budget_'+str(k)+\".pdf\"\n",
    "print(fname)\n",
    "plt.tight_layout()\n",
    "plt.savefig(fname)\n",
    "plt.show()"
   ]
  },
  {
   "cell_type": "code",
   "execution_count": 3,
   "metadata": {},
   "outputs": [
    {
     "name": "stdout",
     "output_type": "stream",
     "text": [
      "figs/reduce_ER_15_22_sp_budget_2_time.pdf\n"
     ]
    },
    {
     "data": {
      "image/png": "[encoded data removed]",
      "text/plain": [
       "<Figure size 900x400 with 1 Axes>"
      ]
     },
     "metadata": {},
     "output_type": "display_data"
    }
   ],
   "source": [
    "from matplotlib import pyplot as plt \n",
    "plt.rcParams['text.usetex'] = True\n",
    "from matplotlib.lines import Line2D,lineStyles\n",
    "from itertools import cycle\n",
    "import seaborn as sns \n",
    "import numpy as np\n",
    "import pandas as pd\n",
    "sns.set(rc={'figure.figsize':(9,4)})\n",
    "sns.set_style(\"dark\", {'axes.grid' : False})\n",
    "sns.set_style(\"ticks\")\n",
    "# plt.style.use('grayscale')\n",
    "fontsize = 28\n",
    "labelsize = 22\n",
    "lw = 2\n",
    "\n",
    "k = 2\n",
    "# K = 32\n",
    "folder = 'output/baby/ureduct/'\n",
    "data = 'ER_15_22'\n",
    "alg0 = 'greedymem'\n",
    "a0 = 'greedy+mem'\n",
    "alg1 = 'greedy'\n",
    "a1 = 'greedy'\n",
    "# q =   'reach'\n",
    "q = 'sp'\n",
    "qset = 2 \n",
    "# Kset = [1,2,4,8,16,32,64,128,256]\n",
    "xlabels = ['$2^{'+str(i)+'}NT$' for i in range(-2,3)]\n",
    "if q == 'reach':\n",
    "    nt = 161*6\n",
    "    Kset = [int((2**i)*nt) for i in range(-2,3)]\n",
    "    print(Kset)\n",
    "if q == 'sp':\n",
    "    nt = 286*11\n",
    "    Kset = [int((2**i)*nt) for i in range(-2,3)]\n",
    "varyK0 = [] #greedy+mem\n",
    "varyK1  = [] #greedy\n",
    "est_alg = ['mcbfs','mcdij'][q == 'sp']\n",
    "for K in Kset:\n",
    "    name0 = folder+'reduce_k_'+str(k)+'_K_'+str(K)+'_'+data+'_'+alg0+'_'+q+'_'+str(qset)+'.queries.csv'\n",
    "    name1 = folder+'reduce_k_'+str(k)+'_K_10_'+data+'_'+alg1+'_'+q+'_'+str(qset)+'.queries.csv'\n",
    "    df0 = pd.read_csv(name0)\n",
    "    df1 = pd.read_csv(name1)\n",
    "    df0 = df0[df0['MCalgo'] == est_alg]\n",
    "    df1 = df1[df1['MCalgo'] == est_alg]\n",
    "    # print(K,' ',df0.shape)\n",
    "    varyK0.append(df0)\n",
    "    varyK1.append(df1)\n",
    "\n",
    "exactdf = pd.read_csv(folder+'reduce_k_'+str(k)+'_K_10_'+data+'_'+'exact_'+q+'_'+str(qset)+'.queries.csv')   \n",
    "exact_deltaH = exactdf['execution_time'].mean()\n",
    "greedy_red = []\n",
    "greedyM_red = []\n",
    "std_red = []\n",
    "stdM_red = []\n",
    "for i,K in enumerate(Kset):\n",
    "    mean,std = varyK0[i]['execution_time'].mean(), varyK0[i]['execution_time'].std()\n",
    "    greedyM_red.append(mean)\n",
    "    stdM_red.append(std)\n",
    "    mean,std = varyK1[i]['execution_time'].mean(), varyK1[i]['execution_time'].std()\n",
    "    greedy_red.append(mean)\n",
    "    std_red.append(std)\n",
    "#     sns.lineplot(x='K', y='DeltaH', data=varyK0[i], linewidth=lw, markersize=8,color='k')\n",
    "# plt.xscale('log',base=2)\n",
    "# greedy_red = np.array(greedy_red)\n",
    "# std_red = np.array(std_red)\n",
    "# print(greedy_red.shape,' ',std_red.shape,' ',len(greedyM_red),' ',len(stdM_red))\n",
    "plt.plot(Kset,greedy_red,color = 'k',marker='x',label='greedy',linewidth=lw)\n",
    "plt.plot(Kset,greedyM_red,color = 'k',marker='o',label='greedy+mem',linewidth=lw)\n",
    "# plt.fill_between(Kset, np.array(greedyM_red) - np.array(stdM_red), np.array(greedyM_red) + np.array(stdM_red), \\\n",
    "#                  color='r', alpha=0.4)\n",
    "ax = plt.gca()\n",
    "ax.axhline(exact_deltaH,linestyle='--',color='r',linewidth=lw,label='Exact')\n",
    "plt.yscale('log',base=2)\n",
    "plt.xscale('log',base=2)\n",
    "plt.xlabel('R',fontsize=fontsize-2)\n",
    "plt.ylabel('Running time (sec)',fontsize=fontsize-2)\n",
    "# plt.xticks([2**0,2**2,2**4,2**6,2**8],fontsize=fontsize-2)\n",
    "plt.xticks(Kset,fontsize=fontsize-2)\n",
    "ax = plt.gca()\n",
    "ax.set_xticklabels(xlabels)\n",
    "plt.yticks(fontsize=fontsize-2)\n",
    "# plt.legend(fontsize=fontsize+10,frameon = False,prop={\"size\":22},bbox_to_anchor=(0.6,0.4))\n",
    "plt.legend(fontsize=fontsize+10,frameon = False,prop={\"size\":22},bbox_to_anchor=(0.63,0.44))\n",
    "plt.title('Budget = '+str(k),fontsize=fontsize-8)\n",
    "fname = 'figs/reduce_'+data+\"_\"+q+'_budget_'+str(k)+\"_time.pdf\"\n",
    "print(fname)\n",
    "plt.tight_layout()\n",
    "plt.savefig(fname)\n",
    "plt.show()"
   ]
  },
  {
   "cell_type": "code",
   "execution_count": 214,
   "metadata": {},
   "outputs": [
    {
     "name": "stdout",
     "output_type": "stream",
     "text": [
      "64   (100, 16)   (100, 16)\n",
      "128   (100, 16)   (100, 16)\n",
      "256   (90, 16)   (100, 16)\n",
      "512   (100, 16)   (78, 16)\n",
      "1024   (51, 16)   (65, 16)\n",
      "figs/reduce_papers_reach_budget_2.pdf\n"
     ]
    },
    {
     "data": {
      "image/png": "[encoded data removed]",
      "text/plain": [
       "<Figure size 576x288 with 1 Axes>"
      ]
     },
     "metadata": {},
     "output_type": "display_data"
    }
   ],
   "source": [
    "from matplotlib import pyplot as plt \n",
    "plt.rcParams['text.usetex'] = True\n",
    "from matplotlib.lines import Line2D,lineStyles\n",
    "from itertools import cycle\n",
    "import seaborn as sns \n",
    "import numpy as np\n",
    "sns.set(rc={'figure.figsize':(8,4)})\n",
    "sns.set_style(\"dark\", {'axes.grid' : False})\n",
    "sns.set_style(\"ticks\")\n",
    "# plt.style.use('grayscale')\n",
    "fontsize = 28\n",
    "labelsize = 22\n",
    "lw = 2\n",
    "\n",
    "k = 2\n",
    "# K = 32\n",
    "data = 'papers'\n",
    "alg0 = 'greedymem'\n",
    "a0 = 'greedy+mem'\n",
    "q = 'reach'\n",
    "qset = 2 \n",
    "Kset = [64,128,256,512,1024]\n",
    "varyK0 = [] #greedy+mem\n",
    "varyK1  = [] #greedy\n",
    "est_alg = 'mcbfs'\n",
    "for K in Kset:\n",
    "    name0 = 'CRureduct/reduce_k_'+str(k)+'_K_'+str(K)+'_'+data+'_'+alg0+'_'+q+'_'+str(qset)+'.queries.csv'\n",
    "    df0 = pd.read_csv(name0)\n",
    "    df0 = df0[df0['MCalgo'] == est_alg]\n",
    "    df1= df0[df0['setting'] == 'adaptive']\n",
    "    df0 = df0[df0['setting'] == 'non-adaptive']\n",
    "    print(K,' ',df0.shape,' ',df1.shape)\n",
    "    varyK0.append(df0)\n",
    "    varyK1.append(df1)\n",
    "\n",
    "\n",
    "adap = []\n",
    "non_adap = []\n",
    "# std_red = []\n",
    "# stdM_red = []\n",
    "for i,K in enumerate(Kset):\n",
    "    mean,std = varyK0[i]['DeltaH'].mean(), varyK0[i]['DeltaH'].std()\n",
    "    non_adap.append(mean)\n",
    "    # stdM_red.append(std)\n",
    "    mean,std = varyK1[i]['DeltaH'].mean(), varyK1[i]['DeltaH'].std()\n",
    "    adap.append(mean)\n",
    "    # std_red.append(std)\n",
    "#     sns.lineplot(x='K', y='DeltaH', data=varyK0[i], linewidth=lw, markersize=8,color='k')\n",
    "# plt.xscale('log',base=2)\n",
    "non_adap = np.array(non_adap)\n",
    "adap = np.array(adap)\n",
    "plt.plot(Kset,non_adap,color = 'k',marker='x',label='Non-adaptive',linewidth=lw)\n",
    "plt.plot(Kset,adap,color = 'k',marker='o',label='Adaptive',linewidth=lw)\n",
    "# plt.fill_between(Kset, np.array(greedyM_red) - np.array(stdM_red), np.array(greedyM_red) + np.array(stdM_red), \\\n",
    "#                  color='r', alpha=0.4)\n",
    "# ax = plt.gca()\n",
    "# ax.axhline(exact_deltaH,linestyle='--',color='r',linewidth=lw,label='Exact')\n",
    "\n",
    "plt.xscale('log',base=2)\n",
    "plt.xlabel('R',fontsize=fontsize-2)\n",
    "plt.ylabel('$\\hat{H}_0 - \\hat{H}_'+str(k)+'$',fontsize=fontsize-2)\n",
    "plt.xticks(fontsize=fontsize-2)\n",
    "plt.yticks(fontsize=fontsize-2)\n",
    "plt.legend(fontsize=fontsize+10,bbox_to_anchor=(1.001,0.95),frameon = False,prop={\"size\":20})\n",
    "plt.title('Budget = '+str(k),fontsize=fontsize-8)\n",
    "fname = 'figs/reduce_'+data+\"_\"+q+'_budget_'+str(k)+\".pdf\"\n",
    "print(fname)\n",
    "plt.tight_layout()\n",
    "plt.savefig(fname)"
   ]
  },
  {
   "cell_type": "code",
   "execution_count": 27,
   "metadata": {},
   "outputs": [
    {
     "name": "stdout",
     "output_type": "stream",
     "text": [
      "1   (10, 16)   (10, 16)\n",
      "171   (10, 16)   (0, 16)\n",
      "341   (10, 16)   (0, 16)\n",
      "511   (10, 16)   (0, 16)\n",
      "681   (10, 16)   (0, 16)\n",
      "figs/varyk_restaurants_reach_budget_681.pdf\n"
     ]
    },
    {
     "data": {
      "image/png": "[encoded data removed]",
      "text/plain": [
       "<Figure size 800x400 with 1 Axes>"
      ]
     },
     "metadata": {},
     "output_type": "display_data"
    }
   ],
   "source": [
    "from matplotlib import pyplot as plt \n",
    "plt.rcParams['text.usetex'] = True\n",
    "from matplotlib.lines import Line2D,lineStyles\n",
    "from itertools import cycle\n",
    "import seaborn as sns \n",
    "import numpy as np\n",
    "sns.set(rc={'figure.figsize':(8,4)})\n",
    "sns.set_style(\"dark\", {'axes.grid' : False})\n",
    "sns.set_style(\"ticks\")\n",
    "# plt.style.use('grayscale')\n",
    "fontsize = 28\n",
    "labelsize = 22\n",
    "lw = 2\n",
    "\n",
    "folder = 'output/baby/CRureduct/'\n",
    "\n",
    "# K = 32\n",
    "data = 'restaurants'\n",
    "# data = 'products'\n",
    "alg0 = 'greedymem'\n",
    "a0 = 'greedy+mem'\n",
    "q = 'reach'\n",
    "qset = 2 \n",
    "# kset = [2,3,5]\n",
    "\n",
    "kset = [list(range(1,851,85*2)),list(range(1,376,2*37))][data=='products']\n",
    "# Kset = [64,128,256,512,1024]\n",
    "K = [156*6,4*46][data=='products']\n",
    "varyK0 = [] #greedy+mem\n",
    "varyK1  = [] #greedy\n",
    "est_alg = 'mcbfs'\n",
    "for k in kset:\n",
    "    name0 = folder+'reduce_k_'+str(k)+'_K_'+str(K)+'_'+data+'_'+alg0+'_'+q+'_'+str(qset)+'.queries.csv'\n",
    "    df0 = pd.read_csv(name0)\n",
    "    df0 = df0[df0['MCalgo'] == est_alg]\n",
    "    df1= df0[df0['setting'] == 'adaptive']\n",
    "    df0 = df0[df0['setting'] == 'non-adaptive']\n",
    "    print(k,' ',df0.shape,' ',df1.shape)\n",
    "    varyK0.append(df0)\n",
    "    varyK1.append(df1)\n",
    "\n",
    "\n",
    "adap = []\n",
    "non_adap = []\n",
    "# std_red = []\n",
    "# stdM_red = []\n",
    "for i,K in enumerate(kset):\n",
    "    mean,std = varyK0[i]['DeltaH'].mean(), varyK0[i]['DeltaH'].std()\n",
    "    non_adap.append(mean)\n",
    "    # stdM_red.append(std)\n",
    "    mean,std = varyK1[i]['DeltaH'].mean(), varyK1[i]['DeltaH'].std()\n",
    "    adap.append(mean)\n",
    "    # std_red.append(std)\n",
    "#     sns.lineplot(x='K', y='DeltaH', data=varyK0[i], linewidth=lw, markersize=8,color='k')\n",
    "# plt.xscale('log',base=2)\n",
    "non_adap = np.array(non_adap)\n",
    "adap = np.array(adap)\n",
    "plt.plot(kset,non_adap,color = 'k',marker='x',label='Non-adaptive',linewidth=lw)\n",
    "plt.plot(kset,adap,color = 'k',marker='o',label='Adaptive',linewidth=lw)\n",
    "# plt.fill_between(Kset, np.array(greedyM_red) - np.array(stdM_red), np.array(greedyM_red) + np.array(stdM_red), \\\n",
    "#                  color='r', alpha=0.4)\n",
    "# ax = plt.gca()\n",
    "# ax.axhline(exact_deltaH,linestyle='--',color='r',linewidth=lw,label='Exact')\n",
    "\n",
    "# plt.xscale('log',base=2)\n",
    "plt.xlabel('budget (k)',fontsize=fontsize-2)\n",
    "plt.ylabel('$\\hat{H}_0 - \\hat{H}_k$',fontsize=fontsize-2)\n",
    "plt.xticks(kset,fontsize=fontsize-2)\n",
    "plt.yticks(fontsize=fontsize-2)\n",
    "# plt.legend(fontsize=fontsize+10,bbox_to_anchor=(1.001,0.95),frameon = False,prop={\"size\":20})\n",
    "plt.legend(fontsize=fontsize+10,loc='best',prop={\"size\":20})\n",
    "# plt.title('Budget = '+str(k),fontsize=fontsize-8)\n",
    "fname = 'figs/varyk_'+data+\"_\"+q+'_budget_'+str(K)+\".pdf\"\n",
    "print(fname)\n",
    "plt.tight_layout()\n",
    "plt.savefig(fname)"
   ]
  },
  {
   "cell_type": "code",
   "execution_count": 23,
   "metadata": {},
   "outputs": [
    {
     "name": "stdout",
     "output_type": "stream",
     "text": [
      "1   (10, 16)   (10, 16)\n",
      "171   (10, 16)   (0, 16)\n",
      "341   (10, 16)   (0, 16)\n",
      "511   (10, 16)   (0, 16)\n",
      "681   (10, 16)   (0, 16)\n",
      "figs/varyk_restaurants_reach_budget_681_tm.pdf\n"
     ]
    },
    {
     "data": {
      "image/png": "[encoded data removed]",
      "text/plain": [
       "<Figure size 800x400 with 1 Axes>"
      ]
     },
     "metadata": {},
     "output_type": "display_data"
    }
   ],
   "source": [
    "from matplotlib import pyplot as plt \n",
    "plt.rcParams['text.usetex'] = True\n",
    "from matplotlib.lines import Line2D,lineStyles\n",
    "from itertools import cycle\n",
    "import seaborn as sns \n",
    "import numpy as np\n",
    "sns.set(rc={'figure.figsize':(8,4)})\n",
    "sns.set_style(\"dark\", {'axes.grid' : False})\n",
    "sns.set_style(\"ticks\")\n",
    "# plt.style.use('grayscale')\n",
    "fontsize = 28\n",
    "labelsize = 22\n",
    "lw = 2\n",
    "\n",
    "folder = 'output/baby/CRureduct/'\n",
    "\n",
    "# K = 32\n",
    "data = 'restaurants'\n",
    "# data = 'products'\n",
    "alg0 = 'greedymem'\n",
    "a0 = 'greedy+mem'\n",
    "q = 'reach'\n",
    "qset = 2 \n",
    "# kset = [2,3,5]\n",
    "\n",
    "kset = [list(range(1,851,85*2)),list(range(1,376,2*37))][data=='products']\n",
    "# Kset = [64,128,256,512,1024]\n",
    "K = [156*6,4*46][data=='products']\n",
    "varyK0 = [] #greedy+mem\n",
    "varyK1  = [] #greedy\n",
    "est_alg = 'mcbfs'\n",
    "for k in kset:\n",
    "    name0 = folder+'reduce_k_'+str(k)+'_K_'+str(K)+'_'+data+'_'+alg0+'_'+q+'_'+str(qset)+'.queries.csv'\n",
    "    df0 = pd.read_csv(name0)\n",
    "    df0 = df0[df0['MCalgo'] == est_alg]\n",
    "    df1= df0[df0['setting'] == 'adaptive']\n",
    "    df0 = df0[df0['setting'] == 'non-adaptive']\n",
    "    print(k,' ',df0.shape,' ',df1.shape)\n",
    "    varyK0.append(df0)\n",
    "    varyK1.append(df1)\n",
    "\n",
    "\n",
    "adap = []\n",
    "non_adap = []\n",
    "# std_red = []\n",
    "# stdM_red = []\n",
    "for i,K in enumerate(kset):\n",
    "    mean,std = varyK0[i]['execution_time'].mean(), varyK0[i]['execution_time'].std()\n",
    "    non_adap.append(mean)\n",
    "    # stdM_red.append(std)\n",
    "    mean,std = varyK1[i]['execution_time'].mean(), varyK1[i]['execution_time'].std()\n",
    "    adap.append(mean)\n",
    "    # std_red.append(std)\n",
    "#     sns.lineplot(x='K', y='DeltaH', data=varyK0[i], linewidth=lw, markersize=8,color='k')\n",
    "# plt.xscale('log',base=2)\n",
    "non_adap = np.array(non_adap)\n",
    "adap = np.array(adap)\n",
    "plt.plot(kset,non_adap,color = 'k',marker='x',label='Non-adaptive',linewidth=lw)\n",
    "plt.plot(kset,adap,color = 'k',marker='o',label='Adaptive',linewidth=lw)\n",
    "# plt.fill_between(Kset, np.array(greedyM_red) - np.array(stdM_red), np.array(greedyM_red) + np.array(stdM_red), \\\n",
    "#                  color='r', alpha=0.4)\n",
    "# ax = plt.gca()\n",
    "# ax.axhline(exact_deltaH,linestyle='--',color='r',linewidth=lw,label='Exact')\n",
    "\n",
    "# plt.xscale('log',base=2)\n",
    "plt.xlabel('budget (k)',fontsize=fontsize-2)\n",
    "plt.ylabel('Running time (sec)',fontsize=fontsize-2)\n",
    "plt.xticks(kset,fontsize=fontsize-2)\n",
    "plt.yticks(fontsize=fontsize-2)\n",
    "plt.legend(fontsize=fontsize+10,loc='best',prop={\"size\":20})\n",
    "# plt.title('Budget = '+str(k),fontsize=fontsize-8)\n",
    "fname = 'figs/varyk_'+data+\"_\"+q+'_budget_'+str(K)+\"_tm.pdf\"\n",
    "print(fname)\n",
    "plt.tight_layout()\n",
    "plt.savefig(fname)"
   ]
  },
  {
   "cell_type": "code",
   "execution_count": 34,
   "metadata": {},
   "outputs": [
    {
     "name": "stdout",
     "output_type": "stream",
     "text": [
      "python3 measure_main.py -a mcdij -pr sp -s 711794 -t 835611 -N 1 -T 201 -d biomine -q data/queries/biomine/biomine_4.queries -pre 1 &\n",
      "python3 measure_main.py -a mcdij -pr sp -s 316609 -t 744327 -N 1 -T 201 -d biomine -q data/queries/biomine/biomine_4.queries -pre 1 &\n",
      "python3 measure_main.py -a mcdij -pr sp -s 644474 -t 555241 -N 1 -T 201 -d biomine -q data/queries/biomine/biomine_4.queries -pre 1 &\n",
      "python3 measure_main.py -a mcdij -pr sp -s 802118 -t 680357 -N 1 -T 201 -d biomine -q data/queries/biomine/biomine_4.queries -pre 1 &\n",
      "python3 measure_main.py -a mcdij -pr sp -s 169172 -t 744344 -N 1 -T 201 -d biomine -q data/queries/biomine/biomine_4.queries -pre 1 &\n",
      "python3 measure_main.py -a mcdij -pr sp -s 921969 -t 2169 -N 1 -T 201 -d biomine -q data/queries/biomine/biomine_4.queries -pre 1 &\n",
      "python3 measure_main.py -a mcdij -pr sp -s 1177 -t 818281 -N 1 -T 201 -d biomine -q data/queries/biomine/biomine_4.queries -pre 1 &\n",
      "python3 measure_main.py -a mcdij -pr sp -s 504101 -t 645398 -N 1 -T 201 -d biomine -q data/queries/biomine/biomine_4.queries -pre 1 &\n",
      "python3 measure_main.py -a mcdij -pr sp -s 671861 -t 874224 -N 1 -T 201 -d biomine -q data/queries/biomine/biomine_4.queries -pre 1 &\n",
      "python3 measure_main.py -a mcdij -pr sp -s 99361 -t 746048 -N 1 -T 201 -d biomine -q data/queries/biomine/biomine_4.queries -pre 1 &\n",
      "-----------\n",
      "for ((i=196; i>=1; i=i-5)); do python3 measure_main.py -a mcdij -pr sp -s 711794 -t 835611 -N 1 -T $i -d biomine -q data/queries/biomine/biomine_4.queries -pre 1; done &\n",
      "for ((i=196; i>=1; i=i-5)); do python3 measure_main.py -a mcdij -pr sp -s 316609 -t 744327 -N 1 -T $i -d biomine -q data/queries/biomine/biomine_4.queries -pre 1; done &\n",
      "for ((i=196; i>=1; i=i-5)); do python3 measure_main.py -a mcdij -pr sp -s 644474 -t 555241 -N 1 -T $i -d biomine -q data/queries/biomine/biomine_4.queries -pre 1; done &\n",
      "for ((i=196; i>=1; i=i-5)); do python3 measure_main.py -a mcdij -pr sp -s 802118 -t 680357 -N 1 -T $i -d biomine -q data/queries/biomine/biomine_4.queries -pre 1; done &\n",
      "for ((i=196; i>=1; i=i-5)); do python3 measure_main.py -a mcdij -pr sp -s 169172 -t 744344 -N 1 -T $i -d biomine -q data/queries/biomine/biomine_4.queries -pre 1; done &\n",
      "for ((i=196; i>=1; i=i-5)); do python3 measure_main.py -a mcdij -pr sp -s 921969 -t 2169 -N 1 -T $i -d biomine -q data/queries/biomine/biomine_4.queries -pre 1; done &\n",
      "for ((i=196; i>=1; i=i-5)); do python3 measure_main.py -a mcdij -pr sp -s 1177 -t 818281 -N 1 -T $i -d biomine -q data/queries/biomine/biomine_4.queries -pre 1; done &\n",
      "for ((i=196; i>=1; i=i-5)); do python3 measure_main.py -a mcdij -pr sp -s 504101 -t 645398 -N 1 -T $i -d biomine -q data/queries/biomine/biomine_4.queries -pre 1; done &\n",
      "for ((i=196; i>=1; i=i-5)); do python3 measure_main.py -a mcdij -pr sp -s 671861 -t 874224 -N 1 -T $i -d biomine -q data/queries/biomine/biomine_4.queries -pre 1; done &\n",
      "for ((i=196; i>=1; i=i-5)); do python3 measure_main.py -a mcdij -pr sp -s 99361 -t 746048 -N 1 -T $i -d biomine -q data/queries/biomine/biomine_4.queries -pre 1; done &\n"
     ]
    }
   ],
   "source": [
    "from src import utils\n",
    "d = 'biomine'\n",
    "# d = 'ER_15_22'\n",
    "qset = 4\n",
    "# maxT = 20\n",
    "maxT = 201\n",
    "\n",
    "# qf = 'data/queries/ER/ER_15_22_'+str(qset)+'.queries'\n",
    "qf = 'data/queries/'+d+'/'+d+'_'+str(qset)+'.queries'\n",
    "queries = utils.get_queries(qf,maxQ=10)\n",
    "cmds = []\n",
    "for u,v in queries:\n",
    "    st = 'python3 measure_main.py -a mcdij -pr sp -s '+str(u) +' -t '+str(v)+ ' -N 1 -T '+str(maxT)+' -d '+d+' -q '+qf+' -pre 1 &'\n",
    "    cmds.append(st)\n",
    "for i in cmds:\n",
    "    print(i)\n",
    "\n",
    "pre = 'for ((i='+str(maxT-5)+'; i>=1; i=i-5)); do '\n",
    "post = '; done'\n",
    "cmd2 = []\n",
    "for u,v in queries:\n",
    "    st = pre+'python3 measure_main.py -a mcdij -pr sp -s '+str(u) +' -t '+str(v)+ ' -N 1 -T $i -d '+d+' -q '+qf+' -pre 1'+post+' &'\n",
    "    cmd2.append(st)\n",
    "    \n",
    "print('-----------')\n",
    "for i in cmd2:\n",
    "    print(i)"
   ]
  }
 ],
 "metadata": {
  "kernelspec": {
   "display_name": "base",
   "language": "python",
   "name": "python3"
  },
  "language_info": {
   "codemirror_mode": {
    "name": "ipython",
    "version": 3
   },
   "file_extension": ".py",
   "mimetype": "text/x-python",
   "name": "python",
   "nbconvert_exporter": "python",
   "pygments_lexer": "ipython3",
   "version": "3.8.8"
  },
  "orig_nbformat": 4
 },
 "nbformat": 4,
 "nbformat_minor": 2
}
